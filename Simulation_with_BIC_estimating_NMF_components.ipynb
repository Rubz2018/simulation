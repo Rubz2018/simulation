{
 "cells": [
  {
   "cell_type": "markdown",
   "metadata": {},
   "source": [
    "## Simulation with Bayesian Information Criterion:\n",
    "\n",
    "### Estimating the number of componenets of NMF:\n",
    " \n",
    "\n",
    "\n",
    "<img src=\"BIC.png\" alt=\"NMF on documents\" style=\"width: 80%\"/>"
   ]
  },
  {
   "cell_type": "code",
   "execution_count": 1,
   "metadata": {},
   "outputs": [
    {
     "data": {
      "text/plain": [
       "array([[ 1., 25., 32.,  3.,  2.,  0.,  0.,  4.,  2.,  0.],\n",
       "       [ 1.,  3.,  0., 21.,  0.,  3.,  1.,  0.,  0.,  1.],\n",
       "       [ 1.,  1.,  3., 21.,  2.,  0.,  1.,  0.,  2.,  3.],\n",
       "       [ 0.,  1.,  0.,  0.,  2.,  2.,  1.,  1.,  0.,  1.],\n",
       "       [ 4.,  1.,  2.,  0.,  0.,  1.,  0.,  1.,  2.,  1.],\n",
       "       [ 2.,  2.,  1.,  2.,  1.,  2.,  0.,  1.,  0.,  2.],\n",
       "       [ 1.,  2.,  0.,  1.,  0.,  0.,  1.,  1.,  1.,  1.],\n",
       "       [ 0.,  0.,  3.,  1.,  0.,  1.,  2.,  1.,  2.,  3.],\n",
       "       [ 3.,  0.,  0.,  1.,  0.,  1.,  1.,  0.,  2.,  0.],\n",
       "       [ 1.,  0.,  1.,  2.,  1.,  1.,  1.,  1.,  2.,  1.]])"
      ]
     },
     "execution_count": 1,
     "metadata": {},
     "output_type": "execute_result"
    }
   ],
   "source": [
    "import numpy as np\n",
    "from scipy.sparse import csr_matrix\n",
    "from scipy.sparse import isspmatrix\n",
    "import matplotlib.pyplot as plt\n",
    "import networkx as nx\n",
    "from sklearn.decomposition import NMF\n",
    "\n",
    "# ==============================\n",
    "# Simulation\n",
    "\n",
    "# Assumptions\n",
    "n = 10\n",
    "k = 2  # Number of components (to be estimated)\n",
    "M = 100  # Total number of data\n",
    "np.random.seed(12345)\n",
    "\n",
    "# Parameters to be estimated\n",
    "# A_norm: n by k\n",
    "# B_norm: k by n\n",
    "# r_prob: k probabilities with sum 1\n",
    "\n",
    "A_norm = np.zeros((n,k))\n",
    "A_norm[0,0] = 1.0\n",
    "A_norm[1,1] = 0.5\n",
    "A_norm[2,1] = 0.5\n",
    "\n",
    "B_norm = np.zeros((k,n))\n",
    "B_norm[0,1] = 0.5\n",
    "B_norm[0,2] = 0.5\n",
    "B_norm[1,3] = 1.0\n",
    "\n",
    "r_prob = np.array([0.6,0.4])\n",
    "\n",
    "# Construct unnormalized A, B\n",
    "A = np.dot(A_norm, np.diag(np.sqrt(M * r_prob)))\n",
    "B = np.dot(np.diag(np.sqrt(M * r_prob)), B_norm)\n",
    "\n",
    "# Construct the matrix of average frequencies\n",
    "# N.B. A, B are dense, but X should be sparse.\n",
    "\n",
    "tmp = [(i,j,np.dot(A[i,:],B[:,j])) for i in np.nonzero(A)[0] for j in np.nonzero(B)[1]]\n",
    "row_idx = [x[0] for x in tmp if x != 0.0]\n",
    "col_idx = [x[1] for x in tmp if x != 0.0]\n",
    "dat = [x[2] for x in tmp if x != 0.0]\n",
    "\n",
    "X_avg = csr_matrix((dat, (row_idx, col_idx)), shape=(n,n))\n",
    "X_avg.toarray()\n",
    "isspmatrix(X_avg)\n",
    "\n",
    "# For debug, compare them:\n",
    "# X_avg.toarray()\n",
    "# np.dot(A,B)\n",
    "\n",
    "noise = 1.0\n",
    "X_avg = np.dot(A,B) + noise\n",
    "X = np.zeros((n,n))\n",
    "for i in range(n):\n",
    "  for j in range(n):\n",
    "    X[i,j] = np.random.poisson(X_avg[i,j],1)\n",
    "\n",
    "X"
   ]
  },
  {
   "cell_type": "code",
   "execution_count": 2,
   "metadata": {},
   "outputs": [
    {
     "name": "stdout",
     "output_type": "stream",
     "text": [
      "Epoch 10 reached after 0.003 seconds, error: 11.629554\n",
      "Epoch 20 reached after 0.005 seconds, error: 11.087011\n",
      "Epoch 30 reached after 0.007 seconds, error: 11.032601\n",
      "Epoch 40 reached after 0.009 seconds, error: 11.013441\n",
      "Epoch 50 reached after 0.010 seconds, error: 11.008312\n",
      "Epoch 60 reached after 0.012 seconds, error: 11.008022\n",
      "#iterations= 60\n",
      "reconstruction error= 1.100802e+01\n",
      "Epoch 10 reached after 0.002 seconds, error: 11.629554\n",
      "Epoch 20 reached after 0.004 seconds, error: 11.087011\n",
      "Epoch 30 reached after 0.006 seconds, error: 11.032601\n",
      "Epoch 40 reached after 0.008 seconds, error: 11.013441\n",
      "Epoch 50 reached after 0.009 seconds, error: 11.008312\n",
      "Epoch 60 reached after 0.010 seconds, error: 11.008022\n"
     ]
    },
    {
     "data": {
      "text/plain": [
       "array([[1.15447824e+00, 2.30761876e+01, 3.28271982e+01, 2.67279924e+00,\n",
       "        1.97461621e+00, 4.34002926e-07, 3.15638492e-07, 4.99515715e+00,\n",
       "        2.29415003e+00, 5.12912549e-07],\n",
       "       [3.19138067e+00, 1.39544516e+00, 2.05771706e-07, 1.23803609e+01,\n",
       "        1.39491439e+00, 2.80327263e+00, 2.03874373e+00, 9.19744055e-01,\n",
       "        2.56494434e+00, 3.31295857e+00],\n",
       "       [3.25601523e+00, 2.74055549e+00, 1.91518821e+00, 1.25257464e+01,\n",
       "        1.50892783e+00, 2.80088394e+00, 2.03700650e+00, 1.21038529e+00,\n",
       "        2.69660286e+00, 3.31013557e+00],\n",
       "       [7.84725740e-01, 5.85084305e-01, 3.51899287e-01, 3.02483834e+00,\n",
       "        3.58752360e-01, 6.78423519e-01, 4.93398923e-01, 2.76135226e-01,\n",
       "        6.45338093e-01, 8.01773250e-01],\n",
       "       [9.26066885e-01, 1.68383535e+00, 1.86000914e+00, 3.49018554e+00,\n",
       "        4.88064304e-01, 7.55988261e-01, 5.49809644e-01, 5.31065777e-01,\n",
       "        8.21703661e-01, 8.93440672e-01],\n",
       "       [1.10138484e+00, 1.50893944e+00, 1.49415533e+00, 4.19042369e+00,\n",
       "        5.48310691e-01, 9.21287324e-01, 6.70027145e-01, 5.29629611e-01,\n",
       "        9.47381422e-01, 1.08879411e+00],\n",
       "       [6.61993940e-01, 9.79263212e-01, 1.00323104e+00, 2.51289449e+00,\n",
       "        3.34274503e-01, 5.50496705e-01, 4.00361240e-01, 3.33272905e-01,\n",
       "        5.73806080e-01, 6.50587015e-01],\n",
       "       [1.04131067e+00, 1.70188022e+00, 1.81296604e+00, 3.93983990e+00,\n",
       "        5.36329388e-01, 8.58670326e-01, 6.24487510e-01, 5.57597085e-01,\n",
       "        9.12368278e-01, 1.01479220e+00],\n",
       "       [8.51034853e-01, 3.72118687e-01, 1.72481234e-08, 3.30142959e+00,\n",
       "        3.71977172e-01, 7.47539376e-01, 5.43665001e-01, 2.45265078e-01,\n",
       "        6.83985162e-01, 8.83455627e-01],\n",
       "       [1.03160892e+00, 9.56690537e-01, 7.35352510e-01, 3.96148192e+00,\n",
       "        4.83833151e-01, 8.83437478e-01, 6.42499984e-01, 4.01747829e-01,\n",
       "        8.59720072e-01, 1.04406247e+00]])"
      ]
     },
     "execution_count": 2,
     "metadata": {},
     "output_type": "execute_result"
    }
   ],
   "source": [
    "# ==============================\n",
    "# Model of NMF\n",
    "\n",
    "n_components = 2\n",
    "\n",
    "# m = NMF(n_components = n_components,\n",
    "#         init = 'random', random_state = 123,\n",
    "#         alpha = 0.0, l1_ratio = 1.0, verbose=True).fit(X)\n",
    "\n",
    "m = NMF(n_components = n_components, beta_loss = 'kullback-leibler', solver = 'mu',\n",
    "        init = 'random', random_state = 123,\n",
    "        alpha = 0.0, l1_ratio = 1.0, verbose=True).fit(X)\n",
    "\n",
    "m.get_params()\n",
    "print(\"#iterations= %d\" % m.n_iter_)\n",
    "print(\"reconstruction error= %e\" % m.reconstruction_err_)\n",
    "\n",
    "W = m.fit_transform(X)\n",
    "H = m.components_\n",
    "\n",
    "# Look at the result more closely\n",
    "np.dot(W, H)"
   ]
  },
  {
   "cell_type": "code",
   "execution_count": 3,
   "metadata": {},
   "outputs": [
    {
     "name": "stdout",
     "output_type": "stream",
     "text": [
      "206.0\n",
      "206.0\n"
     ]
    }
   ],
   "source": [
    "# Normalize W, H\n",
    "\n",
    "W_norm = W / np.sum(W,axis=0,keepdims=True)\n",
    "np.sum(W_norm, axis=0)\n",
    "\n",
    "H_norm = H / np.sum(H,axis=1,keepdims=True)\n",
    "np.sum(H_norm, axis=1)\n",
    "\n",
    "W_sum = np.sum(W,axis=0,keepdims=True).ravel()\n",
    "H_sum = np.sum(H,axis=1,keepdims=True).ravel()\n",
    "\n",
    "# \"Probability\" of each component\n",
    "W_sum * H_sum / np.dot(W_sum, H_sum)\n",
    "\n",
    "print(np.dot(W_sum, H_sum))\n",
    "# This should be equal to\n",
    "print(np.sum(X))"
   ]
  },
  {
   "cell_type": "code",
   "execution_count": 4,
   "metadata": {},
   "outputs": [
    {
     "data": {
      "image/png": "[encoded data removed]",
      "text/plain": [
       "<Figure size 432x288 with 2 Axes>"
      ]
     },
     "metadata": {
      "needs_background": "light"
     },
     "output_type": "display_data"
    }
   ],
   "source": [
    "plt.figure()\n",
    "for i in range(n_components):\n",
    "  plt.subplot(n_components,1,i+1)\n",
    "  plt.plot(np.arange(n)+1, W_norm[:,i])\n",
    "  plt.xlim([0,W_norm.shape[0]+1])\n",
    "\n",
    "# plt.show(block=False)"
   ]
  },
  {
   "cell_type": "code",
   "execution_count": 5,
   "metadata": {},
   "outputs": [
    {
     "data": {
      "image/png": "[encoded data removed]",
      "text/plain": [
       "<Figure size 432x288 with 2 Axes>"
      ]
     },
     "metadata": {
      "needs_background": "light"
     },
     "output_type": "display_data"
    }
   ],
   "source": [
    "plt.figure()\n",
    "for i in range(n_components):\n",
    "  plt.subplot(n_components,1,i+1)\n",
    "  plt.stem(W_norm[:,i], use_line_collection=True)\n",
    "  plt.xlim([-1,W_norm.shape[0]])"
   ]
  },
  {
   "cell_type": "code",
   "execution_count": 6,
   "metadata": {},
   "outputs": [
    {
     "data": {
      "image/png": "[encoded data removed]",
      "text/plain": [
       "<Figure size 432x288 with 2 Axes>"
      ]
     },
     "metadata": {
      "needs_background": "light"
     },
     "output_type": "display_data"
    }
   ],
   "source": [
    "plt.figure()\n",
    "for i in range(n_components):\n",
    "  plt.subplot(n_components,1,i+1)\n",
    "  plt.stem(H_norm[i,:], use_line_collection=True)\n",
    "  plt.xlim([-1,H_norm.shape[1]])"
   ]
  },
  {
   "cell_type": "code",
   "execution_count": 7,
   "metadata": {},
   "outputs": [
    {
     "name": "stdout",
     "output_type": "stream",
     "text": [
      "Epoch 10 reached after 0.001 seconds, error: 15.525125\n",
      "Epoch 20 reached after 0.003 seconds, error: 15.525125\n",
      "Epoch 10 reached after 0.001 seconds, error: 11.629554\n",
      "Epoch 20 reached after 0.002 seconds, error: 11.087011\n",
      "Epoch 30 reached after 0.003 seconds, error: 11.032601\n",
      "Epoch 40 reached after 0.004 seconds, error: 11.013441\n",
      "Epoch 50 reached after 0.005 seconds, error: 11.008312\n",
      "Epoch 60 reached after 0.006 seconds, error: 11.008022\n",
      "Epoch 10 reached after 0.002 seconds, error: 8.568175\n",
      "Epoch 20 reached after 0.003 seconds, error: 7.920283\n",
      "Epoch 30 reached after 0.004 seconds, error: 7.894637\n",
      "Epoch 40 reached after 0.005 seconds, error: 7.892336\n",
      "Epoch 50 reached after 0.006 seconds, error: 7.892103\n",
      "Epoch 10 reached after 0.001 seconds, error: 7.428354\n",
      "Epoch 20 reached after 0.002 seconds, error: 7.179419\n",
      "Epoch 30 reached after 0.002 seconds, error: 7.123633\n",
      "Epoch 40 reached after 0.003 seconds, error: 7.089809\n",
      "Epoch 50 reached after 0.004 seconds, error: 7.057311\n",
      "Epoch 60 reached after 0.005 seconds, error: 7.013058\n",
      "Epoch 70 reached after 0.006 seconds, error: 6.987549\n",
      "Epoch 80 reached after 0.006 seconds, error: 6.973271\n",
      "Epoch 90 reached after 0.007 seconds, error: 6.957443\n",
      "Epoch 100 reached after 0.008 seconds, error: 6.940313\n",
      "Epoch 110 reached after 0.009 seconds, error: 6.937276\n",
      "Epoch 120 reached after 0.010 seconds, error: 6.936330\n",
      "Epoch 10 reached after 0.001 seconds, error: 7.948731\n",
      "Epoch 20 reached after 0.002 seconds, error: 6.472182\n",
      "Epoch 30 reached after 0.003 seconds, error: 5.788744\n",
      "Epoch 40 reached after 0.003 seconds, error: 5.671262\n",
      "Epoch 50 reached after 0.004 seconds, error: 5.599135\n",
      "Epoch 60 reached after 0.005 seconds, error: 5.539314\n",
      "Epoch 70 reached after 0.006 seconds, error: 5.524911\n",
      "Epoch 80 reached after 0.007 seconds, error: 5.520289\n",
      "Epoch 90 reached after 0.007 seconds, error: 5.518252\n"
     ]
    }
   ],
   "source": [
    "# ----------\n",
    "# BIC (Bayesian Information Criterion)\n",
    "\n",
    "ks = np.array(range(1,6))  # #components\n",
    "bic1 = np.zeros(len(ks))  # BIC 1st term: minus of log likelihood\n",
    "bic2 = np.zeros(len(ks))  # BIC 2nd term: penalty or Occam's factor\n",
    "\n",
    "for i in range(len(ks)):\n",
    "  n_components = ks[i]\n",
    "  m = NMF(n_components = n_components, beta_loss = 'kullback-leibler', solver = 'mu',\n",
    "          init = 'random', random_state = 123,\n",
    "          alpha = 0.0, l1_ratio = 1.0, verbose=True).fit(X)\n",
    "  bic1[i] = 0.5 * (m.reconstruction_err_ ** 2)\n",
    "  bic2[i] = 2 * n * n_components * np.log(n)\n",
    "\n",
    "bic = bic1 + bic2\n",
    "\n"
   ]
  },
  {
   "cell_type": "code",
   "execution_count": 8,
   "metadata": {},
   "outputs": [
    {
     "data": {
      "text/plain": [
       "Text(0, 0.5, 'BIC 1st term')"
      ]
     },
     "execution_count": 8,
     "metadata": {},
     "output_type": "execute_result"
    },
    {
     "data": {
      "image/png": "[encoded data removed]",
      "text/plain": [
       "<Figure size 432x288 with 1 Axes>"
      ]
     },
     "metadata": {
      "needs_background": "light"
     },
     "output_type": "display_data"
    }
   ],
   "source": [
    "# plotting each BIC terms from the equation bic = bic1 + bic2\n",
    "\n",
    "plt.figure()\n",
    "plt.plot(ks, bic1, color=\"green\", marker='o')\n",
    "plt.xticks(ks)\n",
    "plt.xlabel(\"#Components\", fontsize=18)\n",
    "plt.ylabel(\"BIC 1st term\", fontsize=18)\n",
    "\n",
    "# plt.show()"
   ]
  },
  {
   "cell_type": "code",
   "execution_count": 9,
   "metadata": {},
   "outputs": [
    {
     "data": {
      "text/plain": [
       "Text(0, 0.5, 'BIC 2nd term')"
      ]
     },
     "execution_count": 9,
     "metadata": {},
     "output_type": "execute_result"
    },
    {
     "data": {
      "image/png": "[encoded data removed]",
      "text/plain": [
       "<Figure size 432x288 with 1 Axes>"
      ]
     },
     "metadata": {
      "needs_background": "light"
     },
     "output_type": "display_data"
    }
   ],
   "source": [
    "plt.figure()\n",
    "plt.plot(ks, bic2, color=\"red\", marker='o')\n",
    "plt.xticks(ks)\n",
    "plt.xlabel(\"#Components\", fontsize=18)\n",
    "plt.ylabel(\"BIC 2nd term\", fontsize=18)\n",
    "\n",
    "# plt.show()"
   ]
  },
  {
   "cell_type": "code",
   "execution_count": 10,
   "metadata": {},
   "outputs": [
    {
     "data": {
      "text/plain": [
       "Text(0, 0.5, 'BIC')"
      ]
     },
     "execution_count": 10,
     "metadata": {},
     "output_type": "execute_result"
    },
    {
     "data": {
      "image/png": "[encoded data removed]",
      "text/plain": [
       "<Figure size 432x288 with 1 Axes>"
      ]
     },
     "metadata": {
      "needs_background": "light"
     },
     "output_type": "display_data"
    }
   ],
   "source": [
    "plt.figure()\n",
    "plt.plot(ks, bic, color=\"blue\", marker='o')\n",
    "plt.xticks(ks)\n",
    "plt.xlabel(\"#Components\", fontsize=18)\n",
    "plt.ylabel(\"BIC\", fontsize=18)\n",
    "\n",
    "# plt.show()"
   ]
  },
  {
   "cell_type": "code",
   "execution_count": null,
   "metadata": {},
   "outputs": [],
   "source": []
  }
 ],
 "metadata": {
  "kernelspec": {
   "display_name": "Python 3",
   "language": "python",
   "name": "python3"
  },
  "language_info": {
   "codemirror_mode": {
    "name": "ipython",
    "version": 3
   },
   "file_extension": ".py",
   "mimetype": "text/x-python",
   "name": "python",
   "nbconvert_exporter": "python",
   "pygments_lexer": "ipython3",
   "version": "3.8.5"
  }
 },
 "nbformat": 4,
 "nbformat_minor": 4
}
