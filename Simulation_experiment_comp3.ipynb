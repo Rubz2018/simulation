{
 "cells": [
  {
   "cell_type": "markdown",
   "metadata": {},
   "source": [
    "## Simulation with Bayesian Information Criterion:\n",
    "\n",
    "### Estimating the number of components of NMF:\n",
    "<img src=\"exp_3comp.PNG\" alt=\"NMF on documents\" style=\"width: 80%\"/>\n",
    "\n"
   ]
  },
  {
   "cell_type": "code",
   "execution_count": 1,
   "metadata": {},
   "outputs": [],
   "source": [
    "import numpy as np\n",
    "from scipy.sparse import csr_matrix\n",
    "from scipy.sparse import isspmatrix\n",
    "import matplotlib.pyplot as plt\n",
    "import networkx as nx\n",
    "from sklearn.decomposition import NMF"
   ]
  },
  {
   "cell_type": "code",
   "execution_count": 2,
   "metadata": {},
   "outputs": [],
   "source": [
    "# ==============================\n",
    "# Simulation\n",
    "\n",
    "# Assumptions\n",
    "n=20\n",
    "k=3 # Number of components (to be estimated)\n",
    "M= 400 # Total number of data\n",
    "np.random.seed(12345)"
   ]
  },
  {
   "cell_type": "code",
   "execution_count": 3,
   "metadata": {},
   "outputs": [],
   "source": [
    "# Parameters to be estimated\n",
    "# A_norm: n by k\n",
    "# B_norm: k by n\n",
    "# r_prob: k probabilities with sum 1"
   ]
  },
  {
   "cell_type": "code",
   "execution_count": 4,
   "metadata": {},
   "outputs": [
    {
     "data": {
      "text/plain": [
       "array([[1. , 0. , 0. ],\n",
       "       [0. , 0.5, 0. ],\n",
       "       [0. , 0.5, 0. ],\n",
       "       [0. , 0. , 1. ],\n",
       "       [0. , 0. , 0. ],\n",
       "       [0. , 0. , 0. ],\n",
       "       [0. , 0. , 0. ],\n",
       "       [0. , 0. , 0. ],\n",
       "       [0. , 0. , 0. ],\n",
       "       [0. , 0. , 0. ],\n",
       "       [0. , 0. , 0. ],\n",
       "       [0. , 0. , 0. ],\n",
       "       [0. , 0. , 0. ],\n",
       "       [0. , 0. , 0. ],\n",
       "       [0. , 0. , 0. ],\n",
       "       [0. , 0. , 0. ],\n",
       "       [0. , 0. , 0. ],\n",
       "       [0. , 0. , 0. ],\n",
       "       [0. , 0. , 0. ],\n",
       "       [0. , 0. , 0. ]])"
      ]
     },
     "execution_count": 4,
     "metadata": {},
     "output_type": "execute_result"
    }
   ],
   "source": [
    "A_norm = np.zeros((n,k))\n",
    "A_norm[0,0] = 1.0\n",
    "A_norm[1,1] = 0.5\n",
    "A_norm[2,1] = 0.5\n",
    "A_norm[3,2] = 1.0\n",
    "\n",
    "A_norm"
   ]
  },
  {
   "cell_type": "code",
   "execution_count": 5,
   "metadata": {},
   "outputs": [
    {
     "data": {
      "text/plain": [
       "array([[0. , 0.5, 0.5, 0. , 0. , 0. , 0. , 0. , 0. , 0. , 0. , 0. , 0. ,\n",
       "        0. , 0. , 0. , 0. , 0. , 0. , 0. ],\n",
       "       [0. , 0. , 0. , 1. , 0. , 0. , 0. , 0. , 0. , 0. , 0. , 0. , 0. ,\n",
       "        0. , 0. , 0. , 0. , 0. , 0. , 0. ],\n",
       "       [0. , 0. , 0. , 0. , 0.5, 0.5, 0. , 0. , 0. , 0. , 0. , 0. , 0. ,\n",
       "        0. , 0. , 0. , 0. , 0. , 0. , 0. ]])"
      ]
     },
     "execution_count": 5,
     "metadata": {},
     "output_type": "execute_result"
    }
   ],
   "source": [
    "B_norm = np.zeros((k,n))\n",
    "B_norm[0,1] = 0.5\n",
    "B_norm[0,2] = 0.5\n",
    "B_norm[1,3] = 1.0\n",
    "B_norm[2,4] = 0.5\n",
    "B_norm[2,5] = 0.5\n",
    "B_norm"
   ]
  },
  {
   "cell_type": "code",
   "execution_count": 6,
   "metadata": {
    "scrolled": true
   },
   "outputs": [
    {
     "data": {
      "text/plain": [
       "array([0.3, 0.2, 0.5])"
      ]
     },
     "execution_count": 6,
     "metadata": {},
     "output_type": "execute_result"
    }
   ],
   "source": [
    "r_prob = np.array([0.3,0.2,0.5])\n",
    "r_prob"
   ]
  },
  {
   "cell_type": "code",
   "execution_count": 7,
   "metadata": {},
   "outputs": [
    {
     "data": {
      "text/plain": [
       "array([10.95445115,  8.94427191, 14.14213562])"
      ]
     },
     "execution_count": 7,
     "metadata": {},
     "output_type": "execute_result"
    }
   ],
   "source": [
    "np.sqrt(M * r_prob)"
   ]
  },
  {
   "cell_type": "code",
   "execution_count": 8,
   "metadata": {},
   "outputs": [
    {
     "data": {
      "text/plain": [
       "array([[10.95445115,  0.        ,  0.        ],\n",
       "       [ 0.        ,  8.94427191,  0.        ],\n",
       "       [ 0.        ,  0.        , 14.14213562]])"
      ]
     },
     "execution_count": 8,
     "metadata": {},
     "output_type": "execute_result"
    }
   ],
   "source": [
    "np.diag(np.sqrt(M * r_prob))"
   ]
  },
  {
   "cell_type": "code",
   "execution_count": 9,
   "metadata": {},
   "outputs": [
    {
     "name": "stdout",
     "output_type": "stream",
     "text": [
      "[[10.95445115  0.          0.        ]\n",
      " [ 0.          4.47213595  0.        ]\n",
      " [ 0.          4.47213595  0.        ]\n",
      " [ 0.          0.         14.14213562]\n",
      " [ 0.          0.          0.        ]\n",
      " [ 0.          0.          0.        ]\n",
      " [ 0.          0.          0.        ]\n",
      " [ 0.          0.          0.        ]\n",
      " [ 0.          0.          0.        ]\n",
      " [ 0.          0.          0.        ]\n",
      " [ 0.          0.          0.        ]\n",
      " [ 0.          0.          0.        ]\n",
      " [ 0.          0.          0.        ]\n",
      " [ 0.          0.          0.        ]\n",
      " [ 0.          0.          0.        ]\n",
      " [ 0.          0.          0.        ]\n",
      " [ 0.          0.          0.        ]\n",
      " [ 0.          0.          0.        ]\n",
      " [ 0.          0.          0.        ]\n",
      " [ 0.          0.          0.        ]]\n",
      "[[0.         5.47722558 5.47722558 0.         0.         0.\n",
      "  0.         0.         0.         0.         0.         0.\n",
      "  0.         0.         0.         0.         0.         0.\n",
      "  0.         0.        ]\n",
      " [0.         0.         0.         8.94427191 0.         0.\n",
      "  0.         0.         0.         0.         0.         0.\n",
      "  0.         0.         0.         0.         0.         0.\n",
      "  0.         0.        ]\n",
      " [0.         0.         0.         0.         7.07106781 7.07106781\n",
      "  0.         0.         0.         0.         0.         0.\n",
      "  0.         0.         0.         0.         0.         0.\n",
      "  0.         0.        ]]\n"
     ]
    }
   ],
   "source": [
    "# Construct unnormalized A, B\n",
    "A = np.dot(A_norm, np.diag(np.sqrt(M * r_prob)))\n",
    "B = np.dot(np.diag(np.sqrt(M * r_prob)), B_norm)\n",
    "print(A)\n",
    "print(B)"
   ]
  },
  {
   "cell_type": "code",
   "execution_count": 10,
   "metadata": {},
   "outputs": [
    {
     "name": "stdout",
     "output_type": "stream",
     "text": [
      "[(0, 1, 60.0), (0, 2, 60.0), (0, 3, 0.0), (0, 4, 0.0), (0, 5, 0.0), (1, 1, 0.0), (1, 2, 0.0), (1, 3, 40.00000000000001), (1, 4, 0.0), (1, 5, 0.0), (2, 1, 0.0), (2, 2, 0.0), (2, 3, 40.00000000000001), (2, 4, 0.0), (2, 5, 0.0), (3, 1, 0.0), (3, 2, 0.0), (3, 3, 0.0), (3, 4, 100.00000000000001), (3, 5, 100.00000000000001)]\n"
     ]
    }
   ],
   "source": [
    "# Construct the matrix of average frequencies\n",
    "# N.B. A, B are dense, but X should be sparse.\n",
    "\n",
    "tmp = [(i,j,np.dot(A[i,:],B[:,j])) for i in np.nonzero(A)[0] for j in np.nonzero(B)[1]]\n",
    "row_idx = [x[0] for x in tmp if x != 0.0]\n",
    "col_idx = [x[1] for x in tmp if x != 0.0]\n",
    "dat = [x[2] for x in tmp if x != 0.0]\n",
    "print(tmp)"
   ]
  },
  {
   "cell_type": "code",
   "execution_count": 11,
   "metadata": {
    "scrolled": true
   },
   "outputs": [
    {
     "name": "stdout",
     "output_type": "stream",
     "text": [
      "True\n",
      "[[  0.  60.  60.   0.   0.   0.   0.   0.   0.   0.   0.   0.   0.   0.\n",
      "    0.   0.   0.   0.   0.   0.]\n",
      " [  0.   0.   0.  40.   0.   0.   0.   0.   0.   0.   0.   0.   0.   0.\n",
      "    0.   0.   0.   0.   0.   0.]\n",
      " [  0.   0.   0.  40.   0.   0.   0.   0.   0.   0.   0.   0.   0.   0.\n",
      "    0.   0.   0.   0.   0.   0.]\n",
      " [  0.   0.   0.   0. 100. 100.   0.   0.   0.   0.   0.   0.   0.   0.\n",
      "    0.   0.   0.   0.   0.   0.]\n",
      " [  0.   0.   0.   0.   0.   0.   0.   0.   0.   0.   0.   0.   0.   0.\n",
      "    0.   0.   0.   0.   0.   0.]\n",
      " [  0.   0.   0.   0.   0.   0.   0.   0.   0.   0.   0.   0.   0.   0.\n",
      "    0.   0.   0.   0.   0.   0.]\n",
      " [  0.   0.   0.   0.   0.   0.   0.   0.   0.   0.   0.   0.   0.   0.\n",
      "    0.   0.   0.   0.   0.   0.]\n",
      " [  0.   0.   0.   0.   0.   0.   0.   0.   0.   0.   0.   0.   0.   0.\n",
      "    0.   0.   0.   0.   0.   0.]\n",
      " [  0.   0.   0.   0.   0.   0.   0.   0.   0.   0.   0.   0.   0.   0.\n",
      "    0.   0.   0.   0.   0.   0.]\n",
      " [  0.   0.   0.   0.   0.   0.   0.   0.   0.   0.   0.   0.   0.   0.\n",
      "    0.   0.   0.   0.   0.   0.]\n",
      " [  0.   0.   0.   0.   0.   0.   0.   0.   0.   0.   0.   0.   0.   0.\n",
      "    0.   0.   0.   0.   0.   0.]\n",
      " [  0.   0.   0.   0.   0.   0.   0.   0.   0.   0.   0.   0.   0.   0.\n",
      "    0.   0.   0.   0.   0.   0.]\n",
      " [  0.   0.   0.   0.   0.   0.   0.   0.   0.   0.   0.   0.   0.   0.\n",
      "    0.   0.   0.   0.   0.   0.]\n",
      " [  0.   0.   0.   0.   0.   0.   0.   0.   0.   0.   0.   0.   0.   0.\n",
      "    0.   0.   0.   0.   0.   0.]\n",
      " [  0.   0.   0.   0.   0.   0.   0.   0.   0.   0.   0.   0.   0.   0.\n",
      "    0.   0.   0.   0.   0.   0.]\n",
      " [  0.   0.   0.   0.   0.   0.   0.   0.   0.   0.   0.   0.   0.   0.\n",
      "    0.   0.   0.   0.   0.   0.]\n",
      " [  0.   0.   0.   0.   0.   0.   0.   0.   0.   0.   0.   0.   0.   0.\n",
      "    0.   0.   0.   0.   0.   0.]\n",
      " [  0.   0.   0.   0.   0.   0.   0.   0.   0.   0.   0.   0.   0.   0.\n",
      "    0.   0.   0.   0.   0.   0.]\n",
      " [  0.   0.   0.   0.   0.   0.   0.   0.   0.   0.   0.   0.   0.   0.\n",
      "    0.   0.   0.   0.   0.   0.]\n",
      " [  0.   0.   0.   0.   0.   0.   0.   0.   0.   0.   0.   0.   0.   0.\n",
      "    0.   0.   0.   0.   0.   0.]]\n",
      "[[  0.  60.  60.   0.   0.   0.   0.   0.   0.   0.   0.   0.   0.   0.\n",
      "    0.   0.   0.   0.   0.   0.]\n",
      " [  0.   0.   0.  40.   0.   0.   0.   0.   0.   0.   0.   0.   0.   0.\n",
      "    0.   0.   0.   0.   0.   0.]\n",
      " [  0.   0.   0.  40.   0.   0.   0.   0.   0.   0.   0.   0.   0.   0.\n",
      "    0.   0.   0.   0.   0.   0.]\n",
      " [  0.   0.   0.   0. 100. 100.   0.   0.   0.   0.   0.   0.   0.   0.\n",
      "    0.   0.   0.   0.   0.   0.]\n",
      " [  0.   0.   0.   0.   0.   0.   0.   0.   0.   0.   0.   0.   0.   0.\n",
      "    0.   0.   0.   0.   0.   0.]\n",
      " [  0.   0.   0.   0.   0.   0.   0.   0.   0.   0.   0.   0.   0.   0.\n",
      "    0.   0.   0.   0.   0.   0.]\n",
      " [  0.   0.   0.   0.   0.   0.   0.   0.   0.   0.   0.   0.   0.   0.\n",
      "    0.   0.   0.   0.   0.   0.]\n",
      " [  0.   0.   0.   0.   0.   0.   0.   0.   0.   0.   0.   0.   0.   0.\n",
      "    0.   0.   0.   0.   0.   0.]\n",
      " [  0.   0.   0.   0.   0.   0.   0.   0.   0.   0.   0.   0.   0.   0.\n",
      "    0.   0.   0.   0.   0.   0.]\n",
      " [  0.   0.   0.   0.   0.   0.   0.   0.   0.   0.   0.   0.   0.   0.\n",
      "    0.   0.   0.   0.   0.   0.]\n",
      " [  0.   0.   0.   0.   0.   0.   0.   0.   0.   0.   0.   0.   0.   0.\n",
      "    0.   0.   0.   0.   0.   0.]\n",
      " [  0.   0.   0.   0.   0.   0.   0.   0.   0.   0.   0.   0.   0.   0.\n",
      "    0.   0.   0.   0.   0.   0.]\n",
      " [  0.   0.   0.   0.   0.   0.   0.   0.   0.   0.   0.   0.   0.   0.\n",
      "    0.   0.   0.   0.   0.   0.]\n",
      " [  0.   0.   0.   0.   0.   0.   0.   0.   0.   0.   0.   0.   0.   0.\n",
      "    0.   0.   0.   0.   0.   0.]\n",
      " [  0.   0.   0.   0.   0.   0.   0.   0.   0.   0.   0.   0.   0.   0.\n",
      "    0.   0.   0.   0.   0.   0.]\n",
      " [  0.   0.   0.   0.   0.   0.   0.   0.   0.   0.   0.   0.   0.   0.\n",
      "    0.   0.   0.   0.   0.   0.]\n",
      " [  0.   0.   0.   0.   0.   0.   0.   0.   0.   0.   0.   0.   0.   0.\n",
      "    0.   0.   0.   0.   0.   0.]\n",
      " [  0.   0.   0.   0.   0.   0.   0.   0.   0.   0.   0.   0.   0.   0.\n",
      "    0.   0.   0.   0.   0.   0.]\n",
      " [  0.   0.   0.   0.   0.   0.   0.   0.   0.   0.   0.   0.   0.   0.\n",
      "    0.   0.   0.   0.   0.   0.]\n",
      " [  0.   0.   0.   0.   0.   0.   0.   0.   0.   0.   0.   0.   0.   0.\n",
      "    0.   0.   0.   0.   0.   0.]]\n"
     ]
    }
   ],
   "source": [
    "X_avg = csr_matrix((dat, (row_idx, col_idx)), shape=(n,n))\n",
    "X_avg.toarray()\n",
    "print(isspmatrix(X_avg))\n",
    "\n",
    "# For debug, compare them:\n",
    "print(X_avg.toarray())\n",
    "print(np.dot(A,B))"
   ]
  },
  {
   "cell_type": "code",
   "execution_count": 12,
   "metadata": {
    "scrolled": true
   },
   "outputs": [
    {
     "data": {
      "text/plain": [
       "array([[  1.,  53.,  62.,   3.,   2.,   0.,   0.,   4.,   2.,   0.,   1.,\n",
       "          3.,   0.,   2.,   1.,   1.,   3.,   1.,   0.,   0.],\n",
       "       [  1.,   1.,   1.,  43.,   1.,   2.,   0.,   1.,   0.,   2.,   3.,\n",
       "          0.,   1.,   0.,   0.,   2.,   2.,   1.,   1.,   0.],\n",
       "       [  1.,   4.,   1.,  25.,   0.,   1.,   0.,   1.,   2.,   1.,   2.,\n",
       "          2.,   1.,   2.,   1.,   2.,   0.,   1.,   0.,   2.],\n",
       "       [  1.,   2.,   0.,   1.,  89., 114.,   1.,   1.,   1.,   0.,   0.,\n",
       "          3.,   1.,   0.,   1.,   2.,   1.,   2.,   3.,   3.],\n",
       "       [  0.,   0.,   1.,   0.,   1.,   1.,   0.,   2.,   0.,   1.,   0.,\n",
       "          1.,   2.,   1.,   1.,   1.,   1.,   2.,   1.,   1.],\n",
       "       [  1.,   0.,   0.,   0.,   0.,   1.,   0.,   1.,   2.,   0.,   0.,\n",
       "          0.,   0.,   0.,   0.,   0.,   3.,   0.,   0.,   0.],\n",
       "       [  3.,   1.,   3.,   0.,   1.,   1.,   2.,   1.,   1.,   0.,   1.,\n",
       "          1.,   0.,   1.,   1.,   2.,   2.,   2.,   0.,   1.],\n",
       "       [  2.,   1.,   1.,   2.,   0.,   0.,   1.,   1.,   1.,   2.,   0.,\n",
       "          2.,   0.,   2.,   0.,   1.,   0.,   1.,   1.,   1.],\n",
       "       [  0.,   0.,   1.,   1.,   0.,   2.,   0.,   1.,   0.,   0.,   0.,\n",
       "          0.,   0.,   0.,   0.,   0.,   1.,   1.,   1.,   1.],\n",
       "       [  0.,   1.,   1.,   0.,   2.,   1.,   1.,   1.,   0.,   0.,   2.,\n",
       "          1.,   0.,   3.,   2.,   1.,   2.,   2.,   2.,   0.],\n",
       "       [  2.,   0.,   1.,   1.,   1.,   0.,   0.,   4.,   0.,   2.,   3.,\n",
       "          0.,   1.,   1.,   1.,   3.,   0.,   0.,   0.,   0.],\n",
       "       [  2.,   2.,   1.,   0.,   1.,   1.,   2.,   1.,   1.,   2.,   1.,\n",
       "          1.,   0.,   1.,   0.,   1.,   1.,   1.,   1.,   1.],\n",
       "       [  1.,   1.,   1.,   1.,   2.,   3.,   3.,   1.,   0.,   1.,   0.,\n",
       "          0.,   0.,   0.,   1.,   1.,   0.,   0.,   2.,   2.],\n",
       "       [  1.,   3.,   0.,   2.,   1.,   1.,   1.,   1.,   0.,   3.,   0.,\n",
       "          0.,   1.,   2.,   1.,   0.,   2.,   1.,   0.,   1.],\n",
       "       [  0.,   0.,   1.,   1.,   2.,   1.,   2.,   2.,   1.,   1.,   1.,\n",
       "          3.,   0.,   1.,   0.,   0.,   2.,   1.,   1.,   3.],\n",
       "       [  1.,   2.,   0.,   1.,   0.,   1.,   0.,   1.,   1.,   0.,   0.,\n",
       "          2.,   0.,   4.,   2.,   2.,   1.,   1.,   1.,   2.],\n",
       "       [  2.,   2.,   0.,   0.,   0.,   0.,   4.,   1.,   2.,   1.,   0.,\n",
       "          0.,   1.,   1.,   3.,   2.,   2.,   2.,   0.,   0.],\n",
       "       [  1.,   1.,   4.,   1.,   0.,   3.,   0.,   2.,   0.,   0.,   3.,\n",
       "          0.,   3.,   0.,   0.,   0.,   0.,   1.,   2.,   0.],\n",
       "       [  0.,   3.,   0.,   0.,   2.,   1.,   0.,   2.,   0.,   0.,   1.,\n",
       "          0.,   0.,   0.,   1.,   0.,   2.,   0.,   1.,   2.],\n",
       "       [  2.,   0.,   2.,   1.,   1.,   2.,   0.,   0.,   1.,   0.,   1.,\n",
       "          3.,   3.,   0.,   2.,   1.,   0.,   2.,   0.,   1.]])"
      ]
     },
     "execution_count": 12,
     "metadata": {},
     "output_type": "execute_result"
    }
   ],
   "source": [
    "noise = 1.0\n",
    "X_avg = np.dot(A,B) + noise\n",
    "X = np.zeros((n,n))\n",
    "for i in range(n):\n",
    "  for j in range(n):\n",
    "    X[i,j] = np.random.poisson(X_avg[i,j],1)\n",
    "X"
   ]
  },
  {
   "cell_type": "code",
   "execution_count": 13,
   "metadata": {},
   "outputs": [
    {
     "name": "stdout",
     "output_type": "stream",
     "text": [
      "Epoch 10 reached after 0.002 seconds, error: 22.084866\n",
      "Epoch 20 reached after 0.004 seconds, error: 21.971558\n",
      "Epoch 30 reached after 0.005 seconds, error: 21.962936\n",
      "Epoch 40 reached after 0.007 seconds, error: 21.961651\n",
      "#iterations= 40\n",
      "reconstruction error= 2.196165e+01\n",
      "Epoch 10 reached after 0.002 seconds, error: 22.084866\n",
      "Epoch 20 reached after 0.003 seconds, error: 21.971558\n",
      "Epoch 30 reached after 0.004 seconds, error: 21.962936\n",
      "Epoch 40 reached after 0.006 seconds, error: 21.961651\n",
      "[[7.79446384e-14 1.23313576e+01 4.43971920e-04]\n",
      " [1.77749466e-01 2.85451619e-02 3.01388510e+00]\n",
      " [6.10416990e-02 3.23238855e-01 2.27919831e+00]\n",
      " [1.28908000e+01 9.24110881e-09 7.14852598e-06]\n",
      " [1.32483102e-01 8.46630103e-02 7.06255364e-01]\n",
      " [6.26698440e-02 6.74538715e-19 3.55173567e-01]\n",
      " [1.25172912e-01 4.02221174e-01 8.88896184e-01]\n",
      " [5.16074852e-33 1.59016952e-01 8.85590175e-01]\n",
      " [1.37269790e-01 9.72643850e-02 2.82907599e-01]\n",
      " [1.94043515e-01 1.71615408e-01 8.57595952e-01]\n",
      " [5.90784399e-02 7.98031239e-02 9.29700374e-01]\n",
      " [1.28147120e-01 2.59119349e-01 8.14828499e-01]\n",
      " [3.39559984e-01 1.48986287e-01 6.36496913e-01]\n",
      " [1.22209351e-01 2.30113956e-01 8.37011452e-01]\n",
      " [2.01414882e-01 8.08334987e-02 9.55070600e-01]\n",
      " [6.70143224e-02 1.26835240e-01 9.98187390e-01]\n",
      " [5.25919341e-34 1.03722067e-01 1.12352516e+00]\n",
      " [1.95282296e-01 4.76525816e-01 6.28140907e-01]\n",
      " [2.01566941e-01 2.98636460e-01 4.16871204e-01]\n",
      " [1.98966424e-01 1.86590116e-01 8.44467601e-01]]\n",
      "[[7.68732304e-02 1.49166144e-01 0.00000000e+00 7.08902190e-02\n",
      "  6.77645400e+00 8.88917976e+00 8.27507178e-02 8.30951515e-02\n",
      "  7.38556433e-02 0.00000000e+00 0.00000000e+00 2.32734692e-01\n",
      "  8.18723145e-02 0.00000000e+00 8.01570837e-02 1.49363154e-01\n",
      "  8.27022481e-02 1.59404414e-01 2.79175604e-01 2.64151786e-01]\n",
      " [8.65806795e-02 4.33660322e+00 4.99008152e+00 2.12352603e-01\n",
      "  1.51242028e-01 0.00000000e+00 0.00000000e+00 3.49851548e-01\n",
      "  1.54335678e-01 0.00000000e+00 9.24077017e-02 2.40698736e-01\n",
      "  0.00000000e+00 1.60757217e-01 8.36798190e-02 7.86762781e-02\n",
      "  2.50572865e-01 8.61472625e-02 0.00000000e+00 0.00000000e+00]\n",
      " [1.11574814e+00 4.07630806e-01 1.83862202e-01 4.50350903e+00\n",
      "  9.39461730e-08 2.56132827e-03 9.01463454e-01 1.27620680e+00\n",
      "  6.56829268e-01 9.16682001e-01 1.00602688e+00 8.41523949e-01\n",
      "  7.30355289e-01 1.05956646e+00 8.86291001e-01 1.05928783e+00\n",
      "  1.13605033e+00 1.04381644e+00 7.29344117e-01 9.71679393e-01]]\n"
     ]
    }
   ],
   "source": [
    "# ==============================\n",
    "# Model of NMF\n",
    "\n",
    "n_components = 3\n",
    "\n",
    "# m = NMF(n_components = n_components,\n",
    "#         init = 'random', random_state = 123,\n",
    "#         alpha = 0.0, l1_ratio = 1.0, verbose=True).fit(X)\n",
    "\n",
    "m = NMF(n_components = n_components, beta_loss = 'kullback-leibler', solver = 'mu',\n",
    "        init = 'random', random_state = 123,\n",
    "        alpha = 0.0, l1_ratio = 1.0, verbose=True).fit(X)\n",
    "\n",
    "m.get_params()\n",
    "print(\"#iterations= %d\" % m.n_iter_)\n",
    "print(\"reconstruction error= %e\" % m.reconstruction_err_)\n",
    "\n",
    "W = m.fit_transform(X)\n",
    "H = m.components_\n",
    "print(W)\n",
    "print(H)\n"
   ]
  },
  {
   "cell_type": "code",
   "execution_count": 14,
   "metadata": {},
   "outputs": [
    {
     "data": {
      "text/plain": [
       "array([[1.06815268e+00, 5.34763863e+01, 6.15345615e+01, 2.62059532e+00,\n",
       "        1.86501954e+00, 1.13715852e-06, 4.00224461e-04, 4.31471116e+00,\n",
       "        1.90346006e+00, 4.06981068e-04, 1.13995907e+00, 2.96851582e+00,\n",
       "        3.24257240e-04, 1.98282515e+00, 1.03227926e+00, 9.70655618e-01,\n",
       "        3.09040799e+00, 1.06277613e+00, 3.23808308e-04, 4.31398366e-04],\n",
       "       [3.37887232e+00, 1.37885566e+00, 6.96582236e-01, 1.35917211e+01,\n",
       "        1.20882859e+00, 1.58776651e+00, 2.73161617e+00, 3.87109735e+00,\n",
       "        1.99714128e+00, 2.76277423e+00, 3.03468722e+00, 2.58449575e+00,\n",
       "        2.21575968e+00, 3.19800040e+00, 2.68781578e+00, 3.22136685e+00,\n",
       "        3.44577808e+00, 3.17673594e+00, 2.24778268e+00, 2.97548288e+00],\n",
       "       [2.57568998e+00, 2.33993546e+00, 2.03204666e+00, 1.03373580e+01,\n",
       "        4.62533780e-01, 5.48448411e-01, 2.05966522e+00, 3.02688626e+00,\n",
       "        1.55143972e+00, 2.08930007e+00, 2.32280452e+00, 2.01000967e+00,\n",
       "        1.66962216e+00, 2.46692506e+00, 2.05197444e+00, 2.44887564e+00,\n",
       "        2.67532716e+00, 2.41664111e+00, 1.67936123e+00, 2.23077430e+00],\n",
       "       [9.90965415e-01, 1.92287389e+00, 1.36045761e-06, 9.13863830e-01,\n",
       "        8.73539132e+01, 1.14588638e+02, 1.06672940e+00, 1.07117210e+00,\n",
       "        9.52063023e-01, 6.55292511e-06, 7.19246324e-06, 3.00014238e+00,\n",
       "        1.05540485e+00, 7.57582393e-06, 1.03329527e+00, 1.92541812e+00,\n",
       "        1.06610626e+00, 2.05485789e+00, 3.59880208e+00, 3.40513479e+00],\n",
       "       [8.05517692e-01, 6.74803320e-01, 5.52328990e-01, 3.20799758e+00,\n",
       "        9.10570322e-01, 1.17947507e+00, 6.47626471e-01, 9.41956085e-01,\n",
       "        4.86740341e-01, 6.47411580e-01, 7.18335394e-01, 6.45542496e-01,\n",
       "        5.26664038e-01, 7.61934684e-01, 6.43651818e-01, 7.74576775e-01,\n",
       "        8.34512541e-01, 7.65612835e-01, 5.52089245e-01, 7.21249431e-01],\n",
       "       [4.01101880e-01, 1.54127907e-01, 6.53029942e-02, 1.60397005e+00,\n",
       "        4.24679348e-01, 5.57993225e-01, 3.25361966e-01, 4.58482482e-01,\n",
       "        2.37916916e-01, 3.25581217e-01, 3.57314156e-01, 3.13472510e-01,\n",
       "        2.64533819e-01, 3.76329999e-01, 3.19810569e-01, 3.85591602e-01,\n",
       "        4.08677985e-01, 3.80725857e-01, 2.76539643e-01, 3.61669188e-01],\n",
       "       [1.03623129e+00, 2.12528667e+00, 2.17055086e+00, 4.09743824e+00,\n",
       "        9.09061310e-01, 1.11496127e+00, 8.11665572e-01, 1.28553432e+00,\n",
       "        6.55174833e-01, 8.14835133e-01, 9.31421789e-01, 8.73973634e-01,\n",
       "        6.59458225e-01, 1.00650454e+00, 8.31511979e-01, 9.91938394e-01,\n",
       "        1.12096859e+00, 9.82447814e-01, 6.83256425e-01, 8.96786752e-01],\n",
       "       [1.00186338e+00, 1.05058726e+00, 9.56334112e-01, 4.02203102e+00,\n",
       "        2.40501295e-02, 2.26828715e-03, 7.98327178e-01, 1.18582853e+00,\n",
       "        6.06223535e-01, 8.11804574e-01, 9.05621912e-01, 7.83520521e-01,\n",
       "        6.46795468e-01, 9.63904767e-01, 7.98197112e-01, 9.50605755e-01,\n",
       "        1.04592034e+00, 9.38092456e-01, 6.45899984e-01, 8.60509723e-01],\n",
       "       [3.34627216e-01, 5.57594903e-01, 5.37373224e-01, 1.30446236e+00,\n",
       "        9.44912908e-01, 1.22094046e+00, 2.66390035e-01, 4.06483151e-01,\n",
       "        2.10971505e-01, 2.59336304e-01, 2.93600628e-01, 2.93432377e-01,\n",
       "        2.17861657e-01, 3.15395355e-01, 2.69880671e-01, 3.27836025e-01,\n",
       "        3.57121607e-01, 3.25564073e-01, 2.44659370e-01, 3.11155544e-01],\n",
       "       [9.86636417e-01, 1.12275518e+00, 1.01405435e+00, 3.91238988e+00,\n",
       "        1.34088249e+00, 1.72708427e+00, 7.89148649e-01, 1.17063378e+00,\n",
       "        6.04111710e-01, 7.86142774e-01, 8.78623165e-01, 8.08155802e-01,\n",
       "        6.42236531e-01, 9.36268320e-01, 7.89994283e-01, 9.50925966e-01,\n",
       "        1.03332216e+00, 9.40888341e-01, 6.79654778e-01, 8.84565255e-01],\n",
       "       [1.04876242e+00, 7.33861500e-01, 5.69160852e-01, 4.20804852e+00,\n",
       "        4.12412004e-01, 5.27540140e-01, 8.42979694e-01, 1.21931832e+00,\n",
       "        6.27334162e-01, 8.52239600e-01, 9.42677990e-01, 8.15323244e-01,\n",
       "        6.83848474e-01, 9.97908261e-01, 8.35398542e-01, 9.99923045e-01,\n",
       "        1.08106883e+00, 9.86728716e-01, 6.94564758e-01, 9.18976370e-01],\n",
       "       [9.41429192e-01, 1.47496221e+00, 1.44284284e+00, 3.73369655e+00,\n",
       "        9.07572875e-01, 1.14120983e+00, 7.45142379e-01, 1.14119138e+00,\n",
       "        5.84658955e-01, 7.46938619e-01, 8.43683996e-01, 7.77891676e-01,\n",
       "        6.05606005e-01, 9.05020251e-01, 7.54130125e-01, 9.02664915e-01,\n",
       "        1.00121252e+00, 8.93281019e-01, 6.30065921e-01, 8.25602351e-01],\n",
       "       [7.49172653e-01, 9.56201016e-01, 8.60481443e-01, 2.92217871e+00,\n",
       "        2.32354566e+00, 3.02004002e+00, 6.01877539e-01, 8.92640560e-01,\n",
       "        4.66142122e-01, 5.83465264e-01, 6.54100484e-01, 6.50515596e-01,\n",
       "        4.92669449e-01, 6.98361401e-01, 6.03806770e-01, 7.36672870e-01,\n",
       "        7.88506822e-01, 7.31348061e-01, 5.59022143e-01, 7.08166311e-01],\n",
       "       [9.63212019e-01, 1.35733407e+00, 1.30218217e+00, 3.82701738e+00,\n",
       "        8.62949028e-01, 1.08848475e+00, 7.64648147e-01, 1.15886043e+00,\n",
       "        5.94314263e-01, 7.67273333e-01, 8.63320322e-01, 7.88195677e-01,\n",
       "        6.21321304e-01, 9.23861739e-01, 7.70887557e-01, 9.22994127e-01,\n",
       "        1.01865444e+00, 9.12990709e-01, 6.44587248e-01, 8.45588598e-01],\n",
       "       [1.08810028e+00, 7.69903291e-01, 5.78967132e-01, 4.33261262e+00,\n",
       "        1.37710420e+00, 1.79285934e+00, 8.77628468e-01, 1.26388392e+00,\n",
       "        6.54669442e-01, 8.75496029e-01, 9.68296334e-01, 8.70047535e-01,\n",
       "        7.14031167e-01, 1.02495534e+00, 8.69379440e-01, 1.04813830e+00,\n",
       "        1.12192041e+00, 1.03598840e+00, 7.52805245e-01, 9.81226522e-01],\n",
       "       [1.12985881e+00, 9.66922307e-01, 8.16447117e-01, 4.52703038e+00,\n",
       "        4.73302386e-01, 5.98259044e-01, 9.05374936e-01, 1.32383560e+00,\n",
       "        6.80163281e-01, 9.15020414e-01, 1.01592390e+00, 8.86124234e-01,\n",
       "        7.34518057e-01, 1.07803556e+00, 9.00669724e-01, 1.07735615e+00,\n",
       "        1.17131482e+00, 1.06353329e+00, 7.46730864e-01, 9.87620070e-01],\n",
       "       [1.26255143e+00, 9.07784915e-01, 7.24155380e-01, 5.08183134e+00,\n",
       "        1.56872413e-02, 2.87771674e-03, 1.01281687e+00, 1.47013777e+00,\n",
       "        7.53972222e-01, 1.02991529e+00, 1.13988123e+00, 9.70439098e-01,\n",
       "        8.20572541e-01, 1.20712364e+00, 1.00444968e+00, 1.19829699e+00,\n",
       "        1.30237106e+00, 1.18168940e+00, 8.19436464e-01, 1.09170624e+00],\n",
       "       [7.57116956e-01, 2.35168248e+00, 2.49339404e+00, 2.94387335e+00,\n",
       "        1.39539228e+00, 1.73750831e+00, 5.82405821e-01, 9.84578002e-01,\n",
       "        5.00548966e-01, 5.75805463e-01, 6.75961292e-01, 6.88743743e-01,\n",
       "        4.74754247e-01, 7.42161999e-01, 6.12244486e-01, 7.32041274e-01,\n",
       "        8.49154406e-01, 7.27844057e-01, 5.12648928e-01, 6.61935742e-01],\n",
       "       [5.06474519e-01, 1.49506434e+00, 1.56686714e+00, 1.95508858e+00,\n",
       "        1.41107553e+00, 1.79283252e+00, 3.92473964e-01, 6.53241528e-01,\n",
       "        3.34790324e-01, 3.82138329e-01, 4.46979945e-01, 4.69600140e-01,\n",
       "        3.20966840e-01, 4.89710711e-01, 4.10616059e-01, 4.95188871e-01,\n",
       "        5.65086900e-01, 4.92994388e-01, 3.60315132e-01, 4.58309425e-01],\n",
       "       [9.73663444e-01, 1.18307736e+00, 1.08636556e+00, 3.85679514e+00,\n",
       "        1.37650717e+00, 1.77081127e+00, 7.77721295e-01, 1.15952728e+00,\n",
       "        5.98163342e-01, 7.74108251e-01, 8.66799470e-01, 8.01858105e-01,\n",
       "        6.33051221e-01, 9.24765253e-01, 7.80006431e-01, 9.38932720e-01,\n",
       "        1.02256709e+00, 9.29259516e-01, 6.71454048e-01, 8.73109102e-01]])"
      ]
     },
     "execution_count": 14,
     "metadata": {},
     "output_type": "execute_result"
    }
   ],
   "source": [
    "# Look at the result more closely\n",
    "np.dot(W, H)"
   ]
  },
  {
   "cell_type": "code",
   "execution_count": 15,
   "metadata": {},
   "outputs": [
    {
     "name": "stdout",
     "output_type": "stream",
     "text": [
      "[15.29447008 15.58908851 17.45425347]\n",
      "[17.53182617 11.27398716 19.4284348 ]\n",
      "[0.3424521  0.22445873 0.43308918]\n",
      "783.0000000000001\n",
      "783.0\n"
     ]
    }
   ],
   "source": [
    "# Normalize W, H\n",
    "\n",
    "W_norm = W / np.sum(W,axis=0,keepdims=True)\n",
    "#print(np.sum(W_norm, axis=0))\n",
    "\n",
    "H_norm = H / np.sum(H,axis=1,keepdims=True)\n",
    "#print(np.sum(H_norm, axis=1))\n",
    "\n",
    "W_sum = np.sum(W,axis=0,keepdims=True).ravel()\n",
    "H_sum = np.sum(H,axis=1,keepdims=True).ravel()\n",
    "print(W_sum)\n",
    "print(H_sum)\n",
    "# \"Probability\" of each component\n",
    "print(W_sum * H_sum / np.dot(W_sum, H_sum))\n",
    "\n",
    "print(np.dot(W_sum, H_sum))\n",
    "# This should be equal to\n",
    "print(np.sum(X))"
   ]
  },
  {
   "cell_type": "code",
   "execution_count": 16,
   "metadata": {},
   "outputs": [
    {
     "data": {
      "image/png": "[encoded data removed]",
      "text/plain": [
       "<Figure size 432x288 with 3 Axes>"
      ]
     },
     "metadata": {
      "needs_background": "light"
     },
     "output_type": "display_data"
    }
   ],
   "source": [
    "plt.figure()\n",
    "for i in range(n_components):\n",
    "  plt.subplot(n_components,1,i+1)\n",
    "  plt.plot(np.arange(n)+1, W_norm[:,i])\n",
    "  plt.xlim([0,W_norm.shape[0]+1])\n",
    "  \n",
    "# plt.show(block=False)"
   ]
  },
  {
   "cell_type": "code",
   "execution_count": 17,
   "metadata": {},
   "outputs": [
    {
     "data": {
      "image/png": "[encoded data removed]",
      "text/plain": [
       "<Figure size 432x288 with 3 Axes>"
      ]
     },
     "metadata": {
      "needs_background": "light"
     },
     "output_type": "display_data"
    }
   ],
   "source": [
    "plt.figure()\n",
    "for i in range(n_components):\n",
    "  plt.subplot(n_components,1,i+1)\n",
    "  plt.stem(W_norm[:,i], use_line_collection=True)\n",
    "  plt.xlim([-1,W_norm.shape[0]])"
   ]
  },
  {
   "cell_type": "code",
   "execution_count": 18,
   "metadata": {},
   "outputs": [
    {
     "data": {
      "image/png": "[encoded data removed]",
      "text/plain": [
       "<Figure size 432x288 with 3 Axes>"
      ]
     },
     "metadata": {
      "needs_background": "light"
     },
     "output_type": "display_data"
    }
   ],
   "source": [
    "plt.figure()\n",
    "for i in range(n_components):\n",
    "  plt.subplot(n_components,1,i+1)\n",
    "  plt.stem(H_norm[i,:], use_line_collection=True)\n",
    "  plt.xlim([-1,H_norm.shape[1]])"
   ]
  },
  {
   "cell_type": "code",
   "execution_count": 19,
   "metadata": {},
   "outputs": [
    {
     "name": "stdout",
     "output_type": "stream",
     "text": [
      "Epoch 10 reached after 0.003 seconds, error: 37.095478\n",
      "Epoch 20 reached after 0.006 seconds, error: 37.095478\n",
      "Epoch 10 reached after 0.003 seconds, error: 28.995587\n",
      "Epoch 20 reached after 0.005 seconds, error: 28.945244\n",
      "Epoch 30 reached after 0.009 seconds, error: 28.942092\n",
      "Epoch 10 reached after 0.001 seconds, error: 22.084866\n",
      "Epoch 20 reached after 0.003 seconds, error: 21.971558\n",
      "Epoch 30 reached after 0.004 seconds, error: 21.962936\n",
      "Epoch 40 reached after 0.005 seconds, error: 21.961651\n",
      "Epoch 10 reached after 0.001 seconds, error: 22.436962\n",
      "Epoch 20 reached after 0.003 seconds, error: 21.050477\n",
      "Epoch 30 reached after 0.004 seconds, error: 20.611136\n",
      "Epoch 40 reached after 0.007 seconds, error: 20.267961\n",
      "Epoch 50 reached after 0.009 seconds, error: 20.189164\n",
      "Epoch 60 reached after 0.010 seconds, error: 20.066048\n",
      "Epoch 70 reached after 0.012 seconds, error: 19.914501\n",
      "Epoch 80 reached after 0.014 seconds, error: 19.324925\n",
      "Epoch 90 reached after 0.015 seconds, error: 18.884008\n",
      "Epoch 100 reached after 0.017 seconds, error: 18.662465\n",
      "Epoch 110 reached after 0.019 seconds, error: 17.848011\n",
      "Epoch 120 reached after 0.020 seconds, error: 17.444259\n",
      "Epoch 130 reached after 0.022 seconds, error: 17.427033\n",
      "Epoch 140 reached after 0.024 seconds, error: 17.411485\n",
      "Epoch 150 reached after 0.025 seconds, error: 17.328454\n",
      "Epoch 160 reached after 0.026 seconds, error: 17.270542\n",
      "Epoch 170 reached after 0.027 seconds, error: 17.265049\n",
      "Epoch 180 reached after 0.029 seconds, error: 17.264384\n",
      "Epoch 10 reached after 0.002 seconds, error: 16.271879\n",
      "Epoch 20 reached after 0.003 seconds, error: 15.755555\n",
      "Epoch 30 reached after 0.005 seconds, error: 15.637809\n",
      "Epoch 40 reached after 0.006 seconds, error: 15.617517\n",
      "Epoch 50 reached after 0.007 seconds, error: 15.611795\n",
      "Epoch 60 reached after 0.009 seconds, error: 15.609153\n"
     ]
    }
   ],
   "source": [
    "# ----------\n",
    "# BIC (Bayesian Information Criterion)\n",
    "\n",
    "ks = np.array(range(1,6))  # #components\n",
    "bic1 = np.zeros(len(ks))  # BIC 1st term: minus of log likelihood\n",
    "bic2 = np.zeros(len(ks))  # BIC 2nd term: penalty or Occam's factor\n",
    "\n",
    "for i in range(len(ks)):\n",
    "  n_components = ks[i]\n",
    "  m = NMF(n_components = n_components, beta_loss = 'kullback-leibler', solver = 'mu',\n",
    "          init = 'random', random_state = 123,\n",
    "          alpha = 0.0, l1_ratio = 1.0, verbose=True).fit(X)\n",
    "  bic1[i] = 0.5 * (m.reconstruction_err_ ** 2)\n",
    "  bic2[i] = 2 * n * n_components * np.log(n)\n",
    "\n",
    "bic = bic1 + bic2"
   ]
  },
  {
   "cell_type": "code",
   "execution_count": 20,
   "metadata": {},
   "outputs": [
    {
     "data": {
      "image/png": "[encoded data removed]",
      "text/plain": [
       "<Figure size 432x288 with 1 Axes>"
      ]
     },
     "metadata": {
      "needs_background": "light"
     },
     "output_type": "display_data"
    }
   ],
   "source": [
    "# plotting each BIC terms from the equation bic = bic1 + bic2\n",
    "\n",
    "plt.figure()\n",
    "plt.plot(ks, bic1, color=\"green\", marker='o')\n",
    "plt.xticks(ks)\n",
    "plt.xlabel(\"#Components\", fontsize=18)\n",
    "plt.ylabel(\"BIC 1st term\", fontsize=18)\n",
    "plt.savefig('BIC1.eps', format='eps')\n",
    "# plt.show()"
   ]
  },
  {
   "cell_type": "code",
   "execution_count": 21,
   "metadata": {},
   "outputs": [
    {
     "data": {
      "image/png": "[encoded data removed]",
      "text/plain": [
       "<Figure size 432x288 with 1 Axes>"
      ]
     },
     "metadata": {
      "needs_background": "light"
     },
     "output_type": "display_data"
    }
   ],
   "source": [
    "plt.figure()\n",
    "plt.plot(ks, bic2, color=\"red\", marker='o')\n",
    "plt.xticks(ks)\n",
    "plt.xlabel(\"#Components\", fontsize=18)\n",
    "plt.ylabel(\"BIC 2nd term\", fontsize=18)\n",
    "plt.savefig('BIC2.eps', format='eps')\n",
    "# plt.show()"
   ]
  },
  {
   "cell_type": "code",
   "execution_count": 22,
   "metadata": {},
   "outputs": [
    {
     "data": {
      "image/png": "[encoded data removed]",
      "text/plain": [
       "<Figure size 432x288 with 1 Axes>"
      ]
     },
     "metadata": {
      "needs_background": "light"
     },
     "output_type": "display_data"
    }
   ],
   "source": [
    "plt.figure()\n",
    "plt.plot(ks, bic, color=\"blue\", marker='o')\n",
    "plt.xticks(ks)\n",
    "plt.xlabel(\"#Components\", fontsize=18)\n",
    "plt.ylabel(\"BIC\", fontsize=18)\n",
    "plt.savefig('BIC_3comp.eps', format='eps')\n",
    "# plt.show()"
   ]
  },
  {
   "cell_type": "code",
   "execution_count": null,
   "metadata": {},
   "outputs": [],
   "source": []
  }
 ],
 "metadata": {
  "kernelspec": {
   "display_name": "Python 3",
   "language": "python",
   "name": "python3"
  },
  "language_info": {
   "codemirror_mode": {
    "name": "ipython",
    "version": 3
   },
   "file_extension": ".py",
   "mimetype": "text/x-python",
   "name": "python",
   "nbconvert_exporter": "python",
   "pygments_lexer": "ipython3",
   "version": "3.8.3"
  }
 },
 "nbformat": 4,
 "nbformat_minor": 4
}
