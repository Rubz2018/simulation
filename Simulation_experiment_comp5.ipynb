{
 "cells": [
  {
   "cell_type": "markdown",
   "metadata": {},
   "source": [
    "## Simulation with Bayesian Information Criterion:\n",
    "\n",
    "### Estimating the number of componenets of NMF:\n",
    "<img src=\"exp_5comp.PNG\" alt=\"NMF on documents\" style=\"width: 80%\"/>\n",
    "\n"
   ]
  },
  {
   "cell_type": "code",
   "execution_count": 1,
   "metadata": {},
   "outputs": [],
   "source": [
    "import numpy as np\n",
    "from scipy.sparse import csr_matrix\n",
    "from scipy.sparse import isspmatrix\n",
    "import matplotlib.pyplot as plt\n",
    "import networkx as nx\n",
    "from sklearn.decomposition import NMF"
   ]
  },
  {
   "cell_type": "code",
   "execution_count": 2,
   "metadata": {},
   "outputs": [],
   "source": [
    "# ==============================\n",
    "# Simulation\n",
    "\n",
    "# Assumptions\n",
    "n=40\n",
    "k=5 # Number of components (to be estimated)\n",
    "M= 1600 # Total number of data\n",
    "np.random.seed(12345)"
   ]
  },
  {
   "cell_type": "code",
   "execution_count": 3,
   "metadata": {},
   "outputs": [],
   "source": [
    "# Parameters to be estimated\n",
    "# A_norm: n by k\n",
    "# B_norm: k by n\n",
    "# r_prob: k probabilities with sum 1"
   ]
  },
  {
   "cell_type": "code",
   "execution_count": 4,
   "metadata": {},
   "outputs": [
    {
     "data": {
      "text/plain": [
       "array([[1. , 0. , 0. , 0. , 0. ],\n",
       "       [0. , 0.5, 0. , 0. , 0. ],\n",
       "       [0. , 0.5, 0. , 0. , 0. ],\n",
       "       [0. , 0. , 1. , 0. , 0. ],\n",
       "       [0. , 0. , 0. , 0.7, 0. ],\n",
       "       [0. , 0. , 0. , 0.3, 0. ],\n",
       "       [0. , 0. , 0. , 0. , 0.6],\n",
       "       [0. , 0. , 0. , 0. , 0.2],\n",
       "       [0. , 0. , 0. , 0. , 0.1],\n",
       "       [0. , 0. , 0. , 0. , 0.1],\n",
       "       [0. , 0. , 0. , 0. , 0. ],\n",
       "       [0. , 0. , 0. , 0. , 0. ],\n",
       "       [0. , 0. , 0. , 0. , 0. ],\n",
       "       [0. , 0. , 0. , 0. , 0. ],\n",
       "       [0. , 0. , 0. , 0. , 0. ],\n",
       "       [0. , 0. , 0. , 0. , 0. ],\n",
       "       [0. , 0. , 0. , 0. , 0. ],\n",
       "       [0. , 0. , 0. , 0. , 0. ],\n",
       "       [0. , 0. , 0. , 0. , 0. ],\n",
       "       [0. , 0. , 0. , 0. , 0. ],\n",
       "       [0. , 0. , 0. , 0. , 0. ],\n",
       "       [0. , 0. , 0. , 0. , 0. ],\n",
       "       [0. , 0. , 0. , 0. , 0. ],\n",
       "       [0. , 0. , 0. , 0. , 0. ],\n",
       "       [0. , 0. , 0. , 0. , 0. ],\n",
       "       [0. , 0. , 0. , 0. , 0. ],\n",
       "       [0. , 0. , 0. , 0. , 0. ],\n",
       "       [0. , 0. , 0. , 0. , 0. ],\n",
       "       [0. , 0. , 0. , 0. , 0. ],\n",
       "       [0. , 0. , 0. , 0. , 0. ],\n",
       "       [0. , 0. , 0. , 0. , 0. ],\n",
       "       [0. , 0. , 0. , 0. , 0. ],\n",
       "       [0. , 0. , 0. , 0. , 0. ],\n",
       "       [0. , 0. , 0. , 0. , 0. ],\n",
       "       [0. , 0. , 0. , 0. , 0. ],\n",
       "       [0. , 0. , 0. , 0. , 0. ],\n",
       "       [0. , 0. , 0. , 0. , 0. ],\n",
       "       [0. , 0. , 0. , 0. , 0. ],\n",
       "       [0. , 0. , 0. , 0. , 0. ],\n",
       "       [0. , 0. , 0. , 0. , 0. ]])"
      ]
     },
     "execution_count": 4,
     "metadata": {},
     "output_type": "execute_result"
    }
   ],
   "source": [
    "A_norm = np.zeros((n,k))\n",
    "A_norm[0,0] = 1.0\n",
    "A_norm[1,1] = 0.5\n",
    "A_norm[2,1] = 0.5\n",
    "A_norm[3,2] = 1.0\n",
    "A_norm[4,3] = 0.7\n",
    "A_norm[5,3] = 0.3\n",
    "A_norm[6,4] = 0.6\n",
    "A_norm[7,4] = 0.2\n",
    "A_norm[8,4] = 0.1\n",
    "A_norm[9,4] = 0.1\n",
    "A_norm"
   ]
  },
  {
   "cell_type": "code",
   "execution_count": 5,
   "metadata": {},
   "outputs": [
    {
     "data": {
      "text/plain": [
       "array([[0. , 0.5, 0.5, 0. , 0. , 0. , 0. , 0. , 0. , 0. , 0. , 0. , 0. ,\n",
       "        0. , 0. , 0. , 0. , 0. , 0. , 0. , 0. , 0. , 0. , 0. , 0. , 0. ,\n",
       "        0. , 0. , 0. , 0. , 0. , 0. , 0. , 0. , 0. , 0. , 0. , 0. , 0. ,\n",
       "        0. ],\n",
       "       [0. , 0. , 0. , 1. , 0. , 0. , 0. , 0. , 0. , 0. , 0. , 0. , 0. ,\n",
       "        0. , 0. , 0. , 0. , 0. , 0. , 0. , 0. , 0. , 0. , 0. , 0. , 0. ,\n",
       "        0. , 0. , 0. , 0. , 0. , 0. , 0. , 0. , 0. , 0. , 0. , 0. , 0. ,\n",
       "        0. ],\n",
       "       [0. , 0. , 0. , 0. , 0.3, 0.7, 0. , 0. , 0. , 0. , 0. , 0. , 0. ,\n",
       "        0. , 0. , 0. , 0. , 0. , 0. , 0. , 0. , 0. , 0. , 0. , 0. , 0. ,\n",
       "        0. , 0. , 0. , 0. , 0. , 0. , 0. , 0. , 0. , 0. , 0. , 0. , 0. ,\n",
       "        0. ],\n",
       "       [0. , 0. , 0. , 0. , 0. , 0. , 0.4, 0.3, 0.2, 0.1, 0. , 0. , 0. ,\n",
       "        0. , 0. , 0. , 0. , 0. , 0. , 0. , 0. , 0. , 0. , 0. , 0. , 0. ,\n",
       "        0. , 0. , 0. , 0. , 0. , 0. , 0. , 0. , 0. , 0. , 0. , 0. , 0. ,\n",
       "        0. ],\n",
       "       [1. , 0. , 0. , 0. , 0. , 0. , 0. , 0. , 0. , 0. , 0. , 0. , 0. ,\n",
       "        0. , 0. , 0. , 0. , 0. , 0. , 0. , 0. , 0. , 0. , 0. , 0. , 0. ,\n",
       "        0. , 0. , 0. , 0. , 0. , 0. , 0. , 0. , 0. , 0. , 0. , 0. , 0. ,\n",
       "        0. ]])"
      ]
     },
     "execution_count": 5,
     "metadata": {},
     "output_type": "execute_result"
    }
   ],
   "source": [
    "B_norm = np.zeros((k,n))\n",
    "B_norm[0,1] = 0.5\n",
    "B_norm[0,2] = 0.5\n",
    "B_norm[1,3] = 1.0\n",
    "B_norm[2,4] = 0.3\n",
    "B_norm[2,5] = 0.7\n",
    "B_norm[3,6] = 0.4\n",
    "B_norm[3,7] = 0.3\n",
    "B_norm[3,8] = 0.2\n",
    "B_norm[3,9] = 0.1\n",
    "B_norm[4,0] = 1.0\n",
    "\n",
    "B_norm"
   ]
  },
  {
   "cell_type": "code",
   "execution_count": 6,
   "metadata": {
    "scrolled": true
   },
   "outputs": [
    {
     "data": {
      "text/plain": [
       "array([0.3, 0.1, 0.1, 0.2, 0.3])"
      ]
     },
     "execution_count": 6,
     "metadata": {},
     "output_type": "execute_result"
    }
   ],
   "source": [
    "r_prob = np.array([0.3,0.1,0.1,0.2,0.3])\n",
    "r_prob"
   ]
  },
  {
   "cell_type": "code",
   "execution_count": 7,
   "metadata": {},
   "outputs": [
    {
     "data": {
      "text/plain": [
       "array([21.9089023 , 12.64911064, 12.64911064, 17.88854382, 21.9089023 ])"
      ]
     },
     "execution_count": 7,
     "metadata": {},
     "output_type": "execute_result"
    }
   ],
   "source": [
    "np.sqrt(M * r_prob)"
   ]
  },
  {
   "cell_type": "code",
   "execution_count": 8,
   "metadata": {},
   "outputs": [
    {
     "data": {
      "text/plain": [
       "array([[21.9089023 ,  0.        ,  0.        ,  0.        ,  0.        ],\n",
       "       [ 0.        , 12.64911064,  0.        ,  0.        ,  0.        ],\n",
       "       [ 0.        ,  0.        , 12.64911064,  0.        ,  0.        ],\n",
       "       [ 0.        ,  0.        ,  0.        , 17.88854382,  0.        ],\n",
       "       [ 0.        ,  0.        ,  0.        ,  0.        , 21.9089023 ]])"
      ]
     },
     "execution_count": 8,
     "metadata": {},
     "output_type": "execute_result"
    }
   ],
   "source": [
    "np.diag(np.sqrt(M * r_prob))"
   ]
  },
  {
   "cell_type": "code",
   "execution_count": 9,
   "metadata": {},
   "outputs": [
    {
     "name": "stdout",
     "output_type": "stream",
     "text": [
      "[[21.9089023   0.          0.          0.          0.        ]\n",
      " [ 0.          6.32455532  0.          0.          0.        ]\n",
      " [ 0.          6.32455532  0.          0.          0.        ]\n",
      " [ 0.          0.         12.64911064  0.          0.        ]\n",
      " [ 0.          0.          0.         12.52198067  0.        ]\n",
      " [ 0.          0.          0.          5.36656315  0.        ]\n",
      " [ 0.          0.          0.          0.         13.14534138]\n",
      " [ 0.          0.          0.          0.          4.38178046]\n",
      " [ 0.          0.          0.          0.          2.19089023]\n",
      " [ 0.          0.          0.          0.          2.19089023]\n",
      " [ 0.          0.          0.          0.          0.        ]\n",
      " [ 0.          0.          0.          0.          0.        ]\n",
      " [ 0.          0.          0.          0.          0.        ]\n",
      " [ 0.          0.          0.          0.          0.        ]\n",
      " [ 0.          0.          0.          0.          0.        ]\n",
      " [ 0.          0.          0.          0.          0.        ]\n",
      " [ 0.          0.          0.          0.          0.        ]\n",
      " [ 0.          0.          0.          0.          0.        ]\n",
      " [ 0.          0.          0.          0.          0.        ]\n",
      " [ 0.          0.          0.          0.          0.        ]\n",
      " [ 0.          0.          0.          0.          0.        ]\n",
      " [ 0.          0.          0.          0.          0.        ]\n",
      " [ 0.          0.          0.          0.          0.        ]\n",
      " [ 0.          0.          0.          0.          0.        ]\n",
      " [ 0.          0.          0.          0.          0.        ]\n",
      " [ 0.          0.          0.          0.          0.        ]\n",
      " [ 0.          0.          0.          0.          0.        ]\n",
      " [ 0.          0.          0.          0.          0.        ]\n",
      " [ 0.          0.          0.          0.          0.        ]\n",
      " [ 0.          0.          0.          0.          0.        ]\n",
      " [ 0.          0.          0.          0.          0.        ]\n",
      " [ 0.          0.          0.          0.          0.        ]\n",
      " [ 0.          0.          0.          0.          0.        ]\n",
      " [ 0.          0.          0.          0.          0.        ]\n",
      " [ 0.          0.          0.          0.          0.        ]\n",
      " [ 0.          0.          0.          0.          0.        ]\n",
      " [ 0.          0.          0.          0.          0.        ]\n",
      " [ 0.          0.          0.          0.          0.        ]\n",
      " [ 0.          0.          0.          0.          0.        ]\n",
      " [ 0.          0.          0.          0.          0.        ]]\n",
      "[[ 0.         10.95445115 10.95445115  0.          0.          0.\n",
      "   0.          0.          0.          0.          0.          0.\n",
      "   0.          0.          0.          0.          0.          0.\n",
      "   0.          0.          0.          0.          0.          0.\n",
      "   0.          0.          0.          0.          0.          0.\n",
      "   0.          0.          0.          0.          0.          0.\n",
      "   0.          0.          0.          0.        ]\n",
      " [ 0.          0.          0.         12.64911064  0.          0.\n",
      "   0.          0.          0.          0.          0.          0.\n",
      "   0.          0.          0.          0.          0.          0.\n",
      "   0.          0.          0.          0.          0.          0.\n",
      "   0.          0.          0.          0.          0.          0.\n",
      "   0.          0.          0.          0.          0.          0.\n",
      "   0.          0.          0.          0.        ]\n",
      " [ 0.          0.          0.          0.          3.79473319  8.85437745\n",
      "   0.          0.          0.          0.          0.          0.\n",
      "   0.          0.          0.          0.          0.          0.\n",
      "   0.          0.          0.          0.          0.          0.\n",
      "   0.          0.          0.          0.          0.          0.\n",
      "   0.          0.          0.          0.          0.          0.\n",
      "   0.          0.          0.          0.        ]\n",
      " [ 0.          0.          0.          0.          0.          0.\n",
      "   7.15541753  5.36656315  3.57770876  1.78885438  0.          0.\n",
      "   0.          0.          0.          0.          0.          0.\n",
      "   0.          0.          0.          0.          0.          0.\n",
      "   0.          0.          0.          0.          0.          0.\n",
      "   0.          0.          0.          0.          0.          0.\n",
      "   0.          0.          0.          0.        ]\n",
      " [21.9089023   0.          0.          0.          0.          0.\n",
      "   0.          0.          0.          0.          0.          0.\n",
      "   0.          0.          0.          0.          0.          0.\n",
      "   0.          0.          0.          0.          0.          0.\n",
      "   0.          0.          0.          0.          0.          0.\n",
      "   0.          0.          0.          0.          0.          0.\n",
      "   0.          0.          0.          0.        ]]\n"
     ]
    }
   ],
   "source": [
    "# Construct unnormalized A, B\n",
    "A = np.dot(A_norm, np.diag(np.sqrt(M * r_prob)))\n",
    "B = np.dot(np.diag(np.sqrt(M * r_prob)), B_norm)\n",
    "print(A)\n",
    "print(B)"
   ]
  },
  {
   "cell_type": "code",
   "execution_count": 10,
   "metadata": {},
   "outputs": [
    {
     "name": "stdout",
     "output_type": "stream",
     "text": [
      "[(0, 1, 240.0), (0, 2, 240.0), (0, 3, 0.0), (0, 4, 0.0), (0, 5, 0.0), (0, 6, 0.0), (0, 7, 0.0), (0, 8, 0.0), (0, 9, 0.0), (0, 0, 0.0), (1, 1, 0.0), (1, 2, 0.0), (1, 3, 80.00000000000001), (1, 4, 0.0), (1, 5, 0.0), (1, 6, 0.0), (1, 7, 0.0), (1, 8, 0.0), (1, 9, 0.0), (1, 0, 0.0), (2, 1, 0.0), (2, 2, 0.0), (2, 3, 80.00000000000001), (2, 4, 0.0), (2, 5, 0.0), (2, 6, 0.0), (2, 7, 0.0), (2, 8, 0.0), (2, 9, 0.0), (2, 0, 0.0), (3, 1, 0.0), (3, 2, 0.0), (3, 3, 0.0), (3, 4, 48.0), (3, 5, 112.0), (3, 6, 0.0), (3, 7, 0.0), (3, 8, 0.0), (3, 9, 0.0), (3, 0, 0.0), (4, 1, 0.0), (4, 2, 0.0), (4, 3, 0.0), (4, 4, 0.0), (4, 5, 0.0), (4, 6, 89.60000000000001), (4, 7, 67.2), (4, 8, 44.800000000000004), (4, 9, 22.400000000000002), (4, 0, 0.0), (5, 1, 0.0), (5, 2, 0.0), (5, 3, 0.0), (5, 4, 0.0), (5, 5, 0.0), (5, 6, 38.400000000000006), (5, 7, 28.8), (5, 8, 19.200000000000003), (5, 9, 9.600000000000001), (5, 0, 0.0), (6, 1, 0.0), (6, 2, 0.0), (6, 3, 0.0), (6, 4, 0.0), (6, 5, 0.0), (6, 6, 0.0), (6, 7, 0.0), (6, 8, 0.0), (6, 9, 0.0), (6, 0, 288.0), (7, 1, 0.0), (7, 2, 0.0), (7, 3, 0.0), (7, 4, 0.0), (7, 5, 0.0), (7, 6, 0.0), (7, 7, 0.0), (7, 8, 0.0), (7, 9, 0.0), (7, 0, 96.00000000000001), (8, 1, 0.0), (8, 2, 0.0), (8, 3, 0.0), (8, 4, 0.0), (8, 5, 0.0), (8, 6, 0.0), (8, 7, 0.0), (8, 8, 0.0), (8, 9, 0.0), (8, 0, 48.00000000000001), (9, 1, 0.0), (9, 2, 0.0), (9, 3, 0.0), (9, 4, 0.0), (9, 5, 0.0), (9, 6, 0.0), (9, 7, 0.0), (9, 8, 0.0), (9, 9, 0.0), (9, 0, 48.00000000000001)]\n"
     ]
    }
   ],
   "source": [
    "# Construct the matrix of average frequencies\n",
    "# N.B. A, B are dense, but X should be sparse.\n",
    "\n",
    "tmp = [(i,j,np.dot(A[i,:],B[:,j])) for i in np.nonzero(A)[0] for j in np.nonzero(B)[1]]\n",
    "row_idx = [x[0] for x in tmp if x != 0.0]\n",
    "col_idx = [x[1] for x in tmp if x != 0.0]\n",
    "dat = [x[2] for x in tmp if x != 0.0]\n",
    "print(tmp)"
   ]
  },
  {
   "cell_type": "code",
   "execution_count": 11,
   "metadata": {
    "scrolled": true
   },
   "outputs": [
    {
     "name": "stdout",
     "output_type": "stream",
     "text": [
      "True\n",
      "[[  0. 240. 240. ...   0.   0.   0.]\n",
      " [  0.   0.   0. ...   0.   0.   0.]\n",
      " [  0.   0.   0. ...   0.   0.   0.]\n",
      " ...\n",
      " [  0.   0.   0. ...   0.   0.   0.]\n",
      " [  0.   0.   0. ...   0.   0.   0.]\n",
      " [  0.   0.   0. ...   0.   0.   0.]]\n",
      "[[  0. 240. 240. ...   0.   0.   0.]\n",
      " [  0.   0.   0. ...   0.   0.   0.]\n",
      " [  0.   0.   0. ...   0.   0.   0.]\n",
      " ...\n",
      " [  0.   0.   0. ...   0.   0.   0.]\n",
      " [  0.   0.   0. ...   0.   0.   0.]\n",
      " [  0.   0.   0. ...   0.   0.   0.]]\n"
     ]
    }
   ],
   "source": [
    "X_avg = csr_matrix((dat, (row_idx, col_idx)), shape=(n,n))\n",
    "X_avg.toarray()\n",
    "print(isspmatrix(X_avg))\n",
    "\n",
    "# For debug, compare them:\n",
    "print(X_avg.toarray())\n",
    "print(np.dot(A,B))"
   ]
  },
  {
   "cell_type": "code",
   "execution_count": 12,
   "metadata": {
    "scrolled": true
   },
   "outputs": [
    {
     "data": {
      "text/plain": [
       "array([[  1., 225., 244., ...,   1.,   1.,   0.],\n",
       "       [  1.,   4.,   1., ...,   1.,   2.,   3.],\n",
       "       [  3.,   0.,   0., ...,   0.,   0.,   0.],\n",
       "       ...,\n",
       "       [  1.,   1.,   0., ...,   1.,   0.,   2.],\n",
       "       [  0.,   2.,   1., ...,   0.,   0.,   2.],\n",
       "       [  1.,   0.,   1., ...,   1.,   0.,   1.]])"
      ]
     },
     "execution_count": 12,
     "metadata": {},
     "output_type": "execute_result"
    }
   ],
   "source": [
    "noise = 1.0\n",
    "X_avg = np.dot(A,B) + noise\n",
    "X = np.zeros((n,n))\n",
    "for i in range(n):\n",
    "  for j in range(n):\n",
    "    X[i,j] = np.random.poisson(X_avg[i,j],1)\n",
    "X"
   ]
  },
  {
   "cell_type": "code",
   "execution_count": 13,
   "metadata": {},
   "outputs": [
    {
     "name": "stdout",
     "output_type": "stream",
     "text": [
      "Epoch 10 reached after 0.003 seconds, error: 47.941274\n",
      "Epoch 20 reached after 0.006 seconds, error: 45.564593\n",
      "Epoch 30 reached after 0.009 seconds, error: 45.402030\n",
      "Epoch 40 reached after 0.010 seconds, error: 45.389740\n",
      "Epoch 50 reached after 0.012 seconds, error: 45.386881\n",
      "#iterations= 50\n",
      "reconstruction error= 4.538688e+01\n",
      "Epoch 10 reached after 0.001 seconds, error: 47.941274\n",
      "Epoch 20 reached after 0.002 seconds, error: 45.564593\n",
      "Epoch 30 reached after 0.004 seconds, error: 45.402030\n",
      "Epoch 40 reached after 0.006 seconds, error: 45.389740\n",
      "Epoch 50 reached after 0.008 seconds, error: 45.386881\n",
      "[[2.97726318e-06 7.81861173e-10 2.52740117e+01 6.65862353e-04\n",
      "  1.08292445e-16]\n",
      " [1.38581025e-02 9.62183728e-03 2.69317761e-01 7.79490802e+00\n",
      "  4.06418866e-08]\n",
      " [1.10863349e-01 2.49095229e-13 1.75392126e-58 7.51498713e+00\n",
      "  1.90368517e-13]\n",
      " [7.21140421e+00 7.93107359e-01 2.04276742e-01 7.62954644e-18\n",
      "  2.20818148e-01]\n",
      " [4.13633391e-25 4.12495751e-08 1.32684379e-05 4.44763414e-03\n",
      "  1.34741351e+01]\n",
      " [4.78433878e-23 6.59927025e-01 2.16768052e-01 1.75713753e-01\n",
      "  7.13547992e+00]\n",
      " [1.31524051e+01 2.19786949e-03 3.86208376e-08 9.93487390e-27\n",
      "  4.72662196e-12]\n",
      " [4.54204238e+00 9.06584523e-01 2.08070272e-01 1.23900921e-23\n",
      "  1.90025356e-01]\n",
      " [2.70264612e+00 7.40122409e-01 9.58222433e-41 1.36900924e-01\n",
      "  4.18822557e-01]\n",
      " [2.16248360e+00 9.20609017e-01 3.95872968e-02 1.07677563e-22\n",
      "  1.95851135e-01]\n",
      " [6.28819748e-02 1.15300536e+00 5.27777514e-02 1.60832780e-17\n",
      "  2.80408755e-01]\n",
      " [6.69629732e-02 9.05740662e-01 2.14693322e-01 6.60401054e-18\n",
      "  5.15971432e-01]\n",
      " [5.17348026e-02 1.63308788e+00 1.04565391e-01 1.04785025e-01\n",
      "  4.51119505e-01]\n",
      " [3.56406450e-05 7.13577930e-01 5.43065977e-02 3.49075097e-01\n",
      "  2.17240946e-01]\n",
      " [2.64544226e-01 8.64128195e-01 1.05122508e-01 1.16354506e-19\n",
      "  1.37754194e-01]\n",
      " [7.98592469e-02 9.16108907e-01 5.28813183e-02 2.26407420e-01\n",
      "  1.40626629e-01]\n",
      " [1.37761382e-46 1.07860633e+00 1.79184202e-63 1.06619927e-01\n",
      "  4.65691640e-25]\n",
      " [2.79879831e-01 1.17208031e+00 1.39195114e-49 3.11448807e-15\n",
      "  8.89177890e-11]\n",
      " [5.39062521e-02 7.75386589e-01 1.10087081e-01 1.10707118e-01\n",
      "  1.42444778e-01]\n",
      " [4.91059768e-50 1.06861196e+00 1.05022048e-01 1.18833870e-01\n",
      "  1.50028559e-28]\n",
      " [1.99104303e-01 9.17304435e-01 1.06393890e-01 1.20040698e-01\n",
      "  2.87018030e-01]\n",
      " [4.40622405e-02 1.00754021e+00 1.03818605e-01 2.39288482e-01\n",
      "  1.38188844e-01]\n",
      " [2.49173981e-07 9.59260936e-01 2.67765388e-01 3.47874121e-01\n",
      "  3.05958479e-01]\n",
      " [5.19865794e-02 1.17984679e+00 5.34430627e-02 1.16563282e-01\n",
      "  2.79876922e-01]\n",
      " [8.37428226e-02 1.34062206e+00 1.57981168e-01 1.15891753e-01\n",
      "  1.35574784e-29]\n",
      " [2.88036396e-28 1.25044702e+00 2.10784367e-01 9.63948872e-22\n",
      "  1.92572288e-23]\n",
      " [4.72016618e-02 1.05761985e+00 1.59720902e-01 1.18868916e-01\n",
      "  1.88768223e-01]\n",
      " [5.14734434e-24 1.02539789e+00 1.07007416e-01 1.08461144e-01\n",
      "  3.26773460e-01]\n",
      " [1.13402608e-01 8.64892115e-01 1.62116486e-01 3.52310516e-01\n",
      "  1.95866475e-01]\n",
      " [6.35008524e-02 1.20818279e+00 2.66495577e-01 3.11976980e-19\n",
      "  9.81251594e-02]\n",
      " [1.48571672e-15 1.20063009e+00 1.62914486e-01 9.01542079e-17\n",
      "  1.48662552e-01]\n",
      " [5.54934735e-02 9.84812454e-01 1.58514736e-01 3.73463604e-23\n",
      "  9.48104139e-02]\n",
      " [8.85109428e-18 1.21496624e+00 5.26588318e-02 1.07749172e-01\n",
      "  3.60429160e-01]\n",
      " [5.10125566e-02 9.23213311e-01 1.07021773e-01 5.53094925e-17\n",
      "  9.25527740e-02]\n",
      " [6.88271121e-02 1.40850298e+00 1.05652924e-01 1.08337853e-01\n",
      "  2.14670028e-01]\n",
      " [5.94992800e-02 8.39467277e-01 5.18734725e-02 3.22475938e-01\n",
      "  1.73765910e-01]\n",
      " [1.07182036e-30 8.01488008e-01 2.14820981e-01 1.14929835e-01\n",
      "  2.22761259e-01]\n",
      " [6.34291322e-02 1.31277991e+00 5.32151108e-02 2.31968290e-01\n",
      "  3.64247333e-01]\n",
      " [2.12456526e-03 9.89036655e-01 1.60051858e-01 7.63231811e-18\n",
      "  1.01050252e-01]\n",
      " [5.91832926e-02 9.66201972e-01 5.30397183e-02 1.13631765e-01\n",
      "  2.88821511e-01]]\n",
      "[[1.56997338e+01 4.98773484e-02 2.63754073e-12 0.00000000e+00\n",
      "  1.64670087e+00 3.84327649e+00 5.85352889e-02 1.27839775e-06\n",
      "  5.86594623e-07 8.64227700e-02 1.43386648e-01 6.07608293e-02\n",
      "  1.68697777e-01 1.74463537e-02 1.19277350e-01 7.48222484e-02\n",
      "  1.06462890e-01 5.12137430e-02 5.88476098e-02 3.57901162e-11\n",
      "  1.49995016e-01 1.02152873e-04 3.25479203e-05 1.06136529e-01\n",
      "  1.37761307e-01 5.04836159e-02 1.69782702e-05 1.15572180e-01\n",
      "  5.83996089e-02 7.28786398e-03 5.79529781e-02 6.95592065e-03\n",
      "  1.29519665e-03 7.77520700e-02 3.70244193e-02 1.08381134e-01\n",
      "  4.19677562e-02 1.41487215e-01 2.16495597e-01 6.29517303e-02]\n",
      " [6.20669815e-08 6.15611370e-03 1.10071659e-03 4.02770152e-13\n",
      "  7.98041393e-01 5.94810860e-01 1.13879397e-08 5.00537444e-03\n",
      "  3.83673758e-01 1.03835149e+00 1.02599173e+00 8.86971727e-01\n",
      "  8.70453399e-01 7.21705069e-01 8.60886982e-01 7.95351846e-01\n",
      "  9.45956125e-01 1.27141685e+00 8.00816243e-01 9.39772890e-01\n",
      "  8.61619723e-01 1.09268528e+00 1.11360713e+00 6.90217295e-01\n",
      "  9.18806205e-01 1.03021181e+00 8.89767843e-01 8.00435357e-01\n",
      "  1.01148748e+00 1.06804857e+00 6.51515153e-01 9.85039551e-01\n",
      "  6.88604598e-01 7.92006074e-01 7.63870434e-01 8.10723529e-01\n",
      "  8.86066884e-01 9.34128229e-01 2.67460344e-01 1.15149040e+00]\n",
      " [3.72558804e-02 8.78660072e+00 9.77854889e+00 1.10148011e-01\n",
      "  8.00542329e-02 0.00000000e+00 0.00000000e+00 1.58610599e-01\n",
      "  7.90910753e-02 0.00000000e+00 4.00045883e-02 1.17907698e-01\n",
      "  0.00000000e+00 7.80561706e-02 3.87558445e-02 3.93246417e-02\n",
      "  1.18321093e-01 4.02976580e-02 0.00000000e+00 0.00000000e+00\n",
      "  3.91518746e-02 4.04794488e-02 3.93962318e-02 1.21043566e-01\n",
      "  3.90002558e-02 7.85964811e-02 0.00000000e+00 3.87147871e-02\n",
      "  0.00000000e+00 7.94566225e-02 1.17059973e-01 0.00000000e+00\n",
      "  3.92576174e-02 0.00000000e+00 0.00000000e+00 7.98519101e-02\n",
      "  7.98919148e-02 4.06938141e-02 4.08633742e-02 0.00000000e+00]\n",
      " [1.00564646e-01 1.88677399e-05 0.00000000e+00 8.50741466e+00\n",
      "  0.00000000e+00 1.10399633e-01 0.00000000e+00 1.93918561e-01\n",
      "  1.23148952e-01 1.30721543e-01 1.34040230e-01 1.85387485e-01\n",
      "  1.96740234e-01 1.97541226e-01 1.18736679e-01 1.94279229e-01\n",
      "  6.50727725e-02 1.93389434e-01 6.39260314e-02 1.84127089e-01\n",
      "  1.25590232e-01 1.48873753e-01 0.00000000e+00 7.03837668e-02\n",
      "  0.00000000e+00 6.66633245e-02 6.14309031e-02 1.28522318e-01\n",
      "  1.91314832e-01 6.26620115e-02 0.00000000e+00 0.00000000e+00\n",
      "  1.79760250e-01 6.30376702e-02 0.00000000e+00 6.22737131e-02\n",
      "  3.09863976e-01 6.06837220e-02 1.30768830e-01 1.99377666e-01]\n",
      " [0.00000000e+00 7.28980893e-08 4.65548785e-02 6.21390751e-02\n",
      "  6.74497042e-02 9.88895347e-02 6.06295289e+00 4.21084609e+00\n",
      "  2.61164548e+00 9.71335261e-01 0.00000000e+00 4.71843653e-02\n",
      "  1.00269399e-01 1.28793179e-01 9.10281205e-10 4.70527189e-02\n",
      "  7.39731019e-02 1.86190211e-12 1.55731645e-01 6.79108246e-02\n",
      "  6.77437407e-02 1.04407044e-01 1.07061227e-09 4.25026108e-05\n",
      "  9.52550736e-02 7.07829739e-02 0.00000000e+00 1.85864742e-01\n",
      "  1.20645470e-01 7.32633977e-02 1.23372057e-01 1.29537083e-01\n",
      "  1.35733874e-01 8.92492636e-07 1.27943678e-01 1.09745176e-07\n",
      "  9.72975987e-02 1.36149836e-01 1.76876112e-01 1.16037504e-12]]\n"
     ]
    }
   ],
   "source": [
    "# ==============================\n",
    "# Model of NMF\n",
    "\n",
    "n_components = 5\n",
    "\n",
    "# m = NMF(n_components = n_components,\n",
    "#         init = 'random', random_state = 123,\n",
    "#         alpha = 0.0, l1_ratio = 1.0, verbose=True).fit(X)\n",
    "\n",
    "m = NMF(n_components = n_components, beta_loss = 'kullback-leibler', solver = 'mu',\n",
    "        init = 'random', random_state = 123,\n",
    "        alpha = 0.0, l1_ratio = 1.0, verbose=True).fit(X)\n",
    "\n",
    "m.get_params()\n",
    "print(\"#iterations= %d\" % m.n_iter_)\n",
    "print(\"reconstruction error= %e\" % m.reconstruction_err_)\n",
    "\n",
    "W = m.fit_transform(X)\n",
    "H = m.components_\n",
    "print(W)\n",
    "print(H)\n"
   ]
  },
  {
   "cell_type": "code",
   "execution_count": 14,
   "metadata": {},
   "outputs": [
    {
     "data": {
      "text/plain": [
       "array([[9.41719262e-01, 2.22072649e+02, 2.47143159e+02, ...,\n",
       "        1.02853676e+00, 1.03286911e+00, 1.32946406e-04],\n",
       "       [1.01149436e+00, 2.36728514e+00, 2.63354749e+00, ...,\n",
       "        4.94932378e-01, 1.03590992e+00, 1.56608241e+00],\n",
       "       [2.49626709e+00, 5.67136073e-03, 3.01543366e-13, ...,\n",
       "        4.71723136e-01, 1.00672750e+00, 1.50529963e+00],\n",
       "       ...,\n",
       "       [1.02113096e+00, 4.78829633e-01, 5.38769051e-01, ...,\n",
       "        1.30111362e+00, 4.61784117e-01, 1.56189574e+00],\n",
       "       [3.93180433e-02, 1.41250637e+00, 1.57086795e+00, ...,\n",
       "        9.44458753e-01, 2.89401678e-01, 1.13899996e+00],\n",
       "       [9.42565379e-01, 4.74940947e-01, 5.33161043e-01, ...,\n",
       "        9.59307204e-01, 3.39346135e-01, 1.13895362e+00]])"
      ]
     },
     "execution_count": 14,
     "metadata": {},
     "output_type": "execute_result"
    }
   ],
   "source": [
    "# Look at the result more closely\n",
    "np.dot(W, H)"
   ]
  },
  {
   "cell_type": "code",
   "execution_count": 15,
   "metadata": {},
   "outputs": [
    {
     "name": "stdout",
     "output_type": "stream",
     "text": [
      "[31.71808146 35.76471719 29.72679189 19.16244354 27.40304526]\n",
      "[23.5635157  29.35425453 20.37643497 12.56063424 16.3976444 ]\n",
      "[0.24163903 0.33942664 0.19583771 0.07781844 0.14527817]\n",
      "3093.0\n",
      "3093.0\n"
     ]
    }
   ],
   "source": [
    "# Normalize W, H\n",
    "\n",
    "W_norm = W / np.sum(W,axis=0,keepdims=True)\n",
    "#print(np.sum(W_norm, axis=0))\n",
    "\n",
    "H_norm = H / np.sum(H,axis=1,keepdims=True)\n",
    "#print(np.sum(H_norm, axis=1))\n",
    "\n",
    "W_sum = np.sum(W,axis=0,keepdims=True).ravel()\n",
    "H_sum = np.sum(H,axis=1,keepdims=True).ravel()\n",
    "print(W_sum)\n",
    "print(H_sum)\n",
    "# \"Probability\" of each component\n",
    "print(W_sum * H_sum / np.dot(W_sum, H_sum))\n",
    "\n",
    "print(np.dot(W_sum, H_sum))\n",
    "# This should be equal to\n",
    "print(np.sum(X))"
   ]
  },
  {
   "cell_type": "code",
   "execution_count": 16,
   "metadata": {},
   "outputs": [
    {
     "data": {
      "image/png": "[encoded data removed]",
      "text/plain": [
       "<Figure size 432x288 with 5 Axes>"
      ]
     },
     "metadata": {
      "needs_background": "light"
     },
     "output_type": "display_data"
    }
   ],
   "source": [
    "plt.figure()\n",
    "for i in range(n_components):\n",
    "  plt.subplot(n_components,1,i+1)\n",
    "  plt.plot(np.arange(n)+1, W_norm[:,i])\n",
    "  plt.xlim([0,W_norm.shape[0]+1])\n",
    "  \n",
    "# plt.show(block=False)"
   ]
  },
  {
   "cell_type": "code",
   "execution_count": 17,
   "metadata": {},
   "outputs": [
    {
     "data": {
      "image/png": "[encoded data removed]",
      "text/plain": [
       "<Figure size 432x288 with 5 Axes>"
      ]
     },
     "metadata": {
      "needs_background": "light"
     },
     "output_type": "display_data"
    }
   ],
   "source": [
    "plt.figure()\n",
    "for i in range(n_components):\n",
    "  plt.subplot(n_components,1,i+1)\n",
    "  plt.stem(W_norm[:,i], use_line_collection=True)\n",
    "  plt.xlim([-1,W_norm.shape[0]])"
   ]
  },
  {
   "cell_type": "code",
   "execution_count": 18,
   "metadata": {},
   "outputs": [
    {
     "data": {
      "image/png": "[encoded data removed]",
      "text/plain": [
       "<Figure size 432x288 with 5 Axes>"
      ]
     },
     "metadata": {
      "needs_background": "light"
     },
     "output_type": "display_data"
    }
   ],
   "source": [
    "plt.figure()\n",
    "for i in range(n_components):\n",
    "  plt.subplot(n_components,1,i+1)\n",
    "  plt.stem(H_norm[i,:], use_line_collection=True)\n",
    "  plt.xlim([-1,H_norm.shape[1]])"
   ]
  },
  {
   "cell_type": "code",
   "execution_count": 19,
   "metadata": {},
   "outputs": [
    {
     "name": "stdout",
     "output_type": "stream",
     "text": [
      "Epoch 10 reached after 0.002 seconds, error: 83.894092\n",
      "Epoch 20 reached after 0.005 seconds, error: 83.894092\n",
      "Epoch 10 reached after 0.002 seconds, error: 68.884332\n",
      "Epoch 20 reached after 0.005 seconds, error: 68.815875\n",
      "Epoch 30 reached after 0.008 seconds, error: 68.813591\n",
      "Epoch 10 reached after 0.001 seconds, error: 59.508032\n",
      "Epoch 20 reached after 0.002 seconds, error: 58.450468\n",
      "Epoch 30 reached after 0.004 seconds, error: 58.429593\n",
      "Epoch 40 reached after 0.005 seconds, error: 58.427370\n",
      "Epoch 10 reached after 0.001 seconds, error: 56.811954\n",
      "Epoch 20 reached after 0.004 seconds, error: 54.461431\n",
      "Epoch 30 reached after 0.005 seconds, error: 54.398446\n",
      "Epoch 40 reached after 0.007 seconds, error: 54.370014\n",
      "Epoch 50 reached after 0.009 seconds, error: 54.359676\n",
      "Epoch 10 reached after 0.001 seconds, error: 47.941274\n",
      "Epoch 20 reached after 0.003 seconds, error: 45.564593\n",
      "Epoch 30 reached after 0.004 seconds, error: 45.402030\n",
      "Epoch 40 reached after 0.006 seconds, error: 45.389740\n",
      "Epoch 50 reached after 0.008 seconds, error: 45.386881\n",
      "Epoch 10 reached after 0.001 seconds, error: 45.067777\n",
      "Epoch 20 reached after 0.002 seconds, error: 42.801774\n",
      "Epoch 30 reached after 0.004 seconds, error: 42.690259\n",
      "Epoch 40 reached after 0.006 seconds, error: 42.658657\n",
      "Epoch 50 reached after 0.008 seconds, error: 42.647586\n",
      "Epoch 10 reached after 0.001 seconds, error: 36.831246\n",
      "Epoch 20 reached after 0.002 seconds, error: 36.319132\n",
      "Epoch 30 reached after 0.004 seconds, error: 36.202753\n",
      "Epoch 40 reached after 0.005 seconds, error: 36.169903\n",
      "Epoch 50 reached after 0.006 seconds, error: 36.155057\n",
      "Epoch 60 reached after 0.008 seconds, error: 36.147280\n",
      "Epoch 10 reached after 0.001 seconds, error: 37.348299\n",
      "Epoch 20 reached after 0.003 seconds, error: 34.983914\n",
      "Epoch 30 reached after 0.004 seconds, error: 34.727324\n",
      "Epoch 40 reached after 0.004 seconds, error: 34.587105\n",
      "Epoch 50 reached after 0.004 seconds, error: 34.535677\n",
      "Epoch 60 reached after 0.004 seconds, error: 34.478869\n",
      "Epoch 70 reached after 0.004 seconds, error: 34.427621\n",
      "Epoch 80 reached after 0.004 seconds, error: 34.408990\n",
      "Epoch 90 reached after 0.004 seconds, error: 34.401348\n",
      "Epoch 10 reached after 0.000 seconds, error: 35.361064\n",
      "Epoch 20 reached after 0.000 seconds, error: 33.729139\n",
      "Epoch 30 reached after 0.000 seconds, error: 33.279103\n",
      "Epoch 40 reached after 0.016 seconds, error: 33.080854\n",
      "Epoch 50 reached after 0.016 seconds, error: 32.998620\n",
      "Epoch 60 reached after 0.016 seconds, error: 32.954558\n",
      "Epoch 70 reached after 0.016 seconds, error: 32.902049\n",
      "Epoch 80 reached after 0.016 seconds, error: 32.841760\n",
      "Epoch 90 reached after 0.016 seconds, error: 32.793188\n",
      "Epoch 100 reached after 0.016 seconds, error: 32.753574\n",
      "Epoch 110 reached after 0.016 seconds, error: 32.717244\n",
      "Epoch 120 reached after 0.016 seconds, error: 32.685884\n",
      "Epoch 130 reached after 0.016 seconds, error: 32.653570\n",
      "Epoch 140 reached after 0.016 seconds, error: 32.617602\n",
      "Epoch 150 reached after 0.016 seconds, error: 32.582049\n",
      "Epoch 160 reached after 0.031 seconds, error: 32.552179\n",
      "Epoch 170 reached after 0.031 seconds, error: 32.513246\n",
      "Epoch 180 reached after 0.031 seconds, error: 32.431968\n",
      "Epoch 190 reached after 0.031 seconds, error: 32.378954\n",
      "Epoch 200 reached after 0.031 seconds, error: 32.349625\n"
     ]
    },
    {
     "name": "stderr",
     "output_type": "stream",
     "text": [
      "C:\\Anaconda3\\lib\\site-packages\\sklearn\\decomposition\\_nmf.py:1076: ConvergenceWarning: Maximum number of iterations 200 reached. Increase it to improve convergence.\n",
      "  warnings.warn(\"Maximum number of iterations %d reached. Increase it to\"\n"
     ]
    }
   ],
   "source": [
    "# ----------\n",
    "# BIC (Bayesian Information Criterion)\n",
    "\n",
    "ks = np.array(range(1,10))  # #components\n",
    "bic1 = np.zeros(len(ks))  # BIC 1st term: minus of log likelihood\n",
    "bic2 = np.zeros(len(ks))  # BIC 2nd term: penalty or Occam's factor\n",
    "\n",
    "for i in range(len(ks)):\n",
    "  n_components = ks[i]\n",
    "  m = NMF(n_components = n_components, beta_loss = 'kullback-leibler', solver = 'mu',\n",
    "          init = 'random', random_state = 123,\n",
    "          alpha = 0.0, l1_ratio = 1.0, verbose=True).fit(X)\n",
    "  bic1[i] = 0.5 * (m.reconstruction_err_ ** 2)\n",
    "  bic2[i] = 2 * n * n_components * np.log(n)\n",
    "\n",
    "bic = bic1 + bic2"
   ]
  },
  {
   "cell_type": "code",
   "execution_count": 20,
   "metadata": {},
   "outputs": [
    {
     "data": {
      "image/png": "[encoded data removed]",
      "text/plain": [
       "<Figure size 432x288 with 1 Axes>"
      ]
     },
     "metadata": {
      "needs_background": "light"
     },
     "output_type": "display_data"
    }
   ],
   "source": [
    "# plotting each BIC terms from the equation bic = bic1 + bic2\n",
    "\n",
    "plt.figure()\n",
    "plt.plot(ks, bic1, color=\"green\", marker='o')\n",
    "plt.xticks(ks)\n",
    "plt.xlabel(\"#Components\", fontsize=18)\n",
    "plt.ylabel(\"BIC 1st term\", fontsize=18)\n",
    "plt.savefig('BIC1.eps', format='eps')\n",
    "# plt.show()"
   ]
  },
  {
   "cell_type": "code",
   "execution_count": 21,
   "metadata": {},
   "outputs": [
    {
     "data": {
      "image/png": "[encoded data removed]",
      "text/plain": [
       "<Figure size 432x288 with 1 Axes>"
      ]
     },
     "metadata": {
      "needs_background": "light"
     },
     "output_type": "display_data"
    }
   ],
   "source": [
    "plt.figure()\n",
    "plt.plot(ks, bic2, color=\"red\", marker='o')\n",
    "plt.xticks(ks)\n",
    "plt.xlabel(\"#Components\", fontsize=18)\n",
    "plt.ylabel(\"BIC 2nd term\", fontsize=18)\n",
    "plt.savefig('BIC2.eps', format='eps')\n",
    "# plt.show()"
   ]
  },
  {
   "cell_type": "code",
   "execution_count": 23,
   "metadata": {},
   "outputs": [
    {
     "data": {
      "image/png": "[encoded data removed]",
      "text/plain": [
       "<Figure size 432x288 with 1 Axes>"
      ]
     },
     "metadata": {
      "needs_background": "light"
     },
     "output_type": "display_data"
    }
   ],
   "source": [
    "plt.figure()\n",
    "plt.plot(ks, bic, color=\"blue\", marker='o')\n",
    "plt.xticks(ks)\n",
    "plt.xlabel(\"#Components\", fontsize=18)\n",
    "plt.ylabel(\"BIC\", fontsize=18)\n",
    "plt.savefig('BIC_comp5.eps', format='eps')\n",
    "# plt.show()"
   ]
  },
  {
   "cell_type": "code",
   "execution_count": null,
   "metadata": {},
   "outputs": [],
   "source": []
  }
 ],
 "metadata": {
  "kernelspec": {
   "display_name": "Python 3",
   "language": "python",
   "name": "python3"
  },
  "language_info": {
   "codemirror_mode": {
    "name": "ipython",
    "version": 3
   },
   "file_extension": ".py",
   "mimetype": "text/x-python",
   "name": "python",
   "nbconvert_exporter": "python",
   "pygments_lexer": "ipython3",
   "version": "3.8.3"
  }
 },
 "nbformat": 4,
 "nbformat_minor": 4
}
